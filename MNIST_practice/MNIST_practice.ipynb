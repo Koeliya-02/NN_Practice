{
  "nbformat": 4,
  "nbformat_minor": 0,
  "metadata": {
    "colab": {
      "provenance": []
    },
    "kernelspec": {
      "name": "python3",
      "display_name": "Python 3"
    },
    "language_info": {
      "name": "python"
    }
  },
  "cells": [
    {
      "cell_type": "code",
      "source": [
        "from google.colab import drive\n",
        "drive.mount('/content/drive')"
      ],
      "metadata": {
        "colab": {
          "base_uri": "https://localhost:8080/"
        },
        "id": "gd3mnAI6lMMQ",
        "outputId": "34195c24-2bad-4271-d930-b200090a28ae"
      },
      "execution_count": 2,
      "outputs": [
        {
          "output_type": "stream",
          "name": "stdout",
          "text": [
            "Mounted at /content/drive\n"
          ]
        }
      ]
    },
    {
      "cell_type": "code",
      "source": [
        "%cd /content/drive/MyDrive/MNIST_practice"
      ],
      "metadata": {
        "colab": {
          "base_uri": "https://localhost:8080/"
        },
        "id": "Jn93mfaPlN8f",
        "outputId": "94153202-2508-4469-e740-8c6f03498d0a"
      },
      "execution_count": 3,
      "outputs": [
        {
          "output_type": "stream",
          "name": "stdout",
          "text": [
            "/content/drive/MyDrive/MNIST_practice\n"
          ]
        }
      ]
    },
    {
      "cell_type": "code",
      "source": [
        "import pandas as pd\n",
        "import numpy as np\n",
        "\n",
        "train = pd.read_csv(\"MNIST/mnist_train.csv\")\n",
        "test = pd.read_csv(\"MNIST/mnist_test.csv\")\n"
      ],
      "metadata": {
        "id": "U2cUxGB1lYxW"
      },
      "execution_count": 37,
      "outputs": []
    },
    {
      "cell_type": "code",
      "source": [
        "print(len(train))\n",
        "print(train.head(1))"
      ],
      "metadata": {
        "colab": {
          "base_uri": "https://localhost:8080/"
        },
        "id": "WpykCcgQmP5h",
        "outputId": "b1b0881d-7bea-4f02-cb31-3ba738e151a3"
      },
      "execution_count": 38,
      "outputs": [
        {
          "output_type": "stream",
          "name": "stdout",
          "text": [
            "60000\n",
            "   label  1x1  1x2  1x3  1x4  1x5  1x6  1x7  1x8  1x9  ...  28x19  28x20  \\\n",
            "0      5    0    0    0    0    0    0    0    0    0  ...      0      0   \n",
            "\n",
            "   28x21  28x22  28x23  28x24  28x25  28x26  28x27  28x28  \n",
            "0      0      0      0      0      0      0      0      0  \n",
            "\n",
            "[1 rows x 785 columns]\n"
          ]
        }
      ]
    },
    {
      "cell_type": "code",
      "source": [
        "import matplotlib.pyplot as plt\n",
        "\n",
        "#train = train.drop('label', axis=1)\n",
        "print(train.shape)\n",
        "print(train.head(1))\n",
        "print(train.iloc[0, 1:].values)\n",
        "plt.imshow(train.iloc[0, 1:].values.reshape(28, 28))\n"
      ],
      "metadata": {
        "colab": {
          "base_uri": "https://localhost:8080/",
          "height": 1000
        },
        "id": "o0J3J5nyuVtr",
        "outputId": "addb4908-6e5a-4562-e31d-786444d7b864"
      },
      "execution_count": 39,
      "outputs": [
        {
          "output_type": "stream",
          "name": "stdout",
          "text": [
            "(60000, 785)\n",
            "   label  1x1  1x2  1x3  1x4  1x5  1x6  1x7  1x8  1x9  ...  28x19  28x20  \\\n",
            "0      5    0    0    0    0    0    0    0    0    0  ...      0      0   \n",
            "\n",
            "   28x21  28x22  28x23  28x24  28x25  28x26  28x27  28x28  \n",
            "0      0      0      0      0      0      0      0      0  \n",
            "\n",
            "[1 rows x 785 columns]\n",
            "[  0   0   0   0   0   0   0   0   0   0   0   0   0   0   0   0   0   0\n",
            "   0   0   0   0   0   0   0   0   0   0   0   0   0   0   0   0   0   0\n",
            "   0   0   0   0   0   0   0   0   0   0   0   0   0   0   0   0   0   0\n",
            "   0   0   0   0   0   0   0   0   0   0   0   0   0   0   0   0   0   0\n",
            "   0   0   0   0   0   0   0   0   0   0   0   0   0   0   0   0   0   0\n",
            "   0   0   0   0   0   0   0   0   0   0   0   0   0   0   0   0   0   0\n",
            "   0   0   0   0   0   0   0   0   0   0   0   0   0   0   0   0   0   0\n",
            "   0   0   0   0   0   0   0   0   0   0   0   0   0   0   0   0   0   0\n",
            "   0   0   0   0   0   0   0   0   3  18  18  18 126 136 175  26 166 255\n",
            " 247 127   0   0   0   0   0   0   0   0   0   0   0   0  30  36  94 154\n",
            " 170 253 253 253 253 253 225 172 253 242 195  64   0   0   0   0   0   0\n",
            "   0   0   0   0   0  49 238 253 253 253 253 253 253 253 253 251  93  82\n",
            "  82  56  39   0   0   0   0   0   0   0   0   0   0   0   0  18 219 253\n",
            " 253 253 253 253 198 182 247 241   0   0   0   0   0   0   0   0   0   0\n",
            "   0   0   0   0   0   0   0   0  80 156 107 253 253 205  11   0  43 154\n",
            "   0   0   0   0   0   0   0   0   0   0   0   0   0   0   0   0   0   0\n",
            "   0  14   1 154 253  90   0   0   0   0   0   0   0   0   0   0   0   0\n",
            "   0   0   0   0   0   0   0   0   0   0   0   0   0 139 253 190   2   0\n",
            "   0   0   0   0   0   0   0   0   0   0   0   0   0   0   0   0   0   0\n",
            "   0   0   0   0   0  11 190 253  70   0   0   0   0   0   0   0   0   0\n",
            "   0   0   0   0   0   0   0   0   0   0   0   0   0   0   0   0  35 241\n",
            " 225 160 108   1   0   0   0   0   0   0   0   0   0   0   0   0   0   0\n",
            "   0   0   0   0   0   0   0   0   0  81 240 253 253 119  25   0   0   0\n",
            "   0   0   0   0   0   0   0   0   0   0   0   0   0   0   0   0   0   0\n",
            "   0   0  45 186 253 253 150  27   0   0   0   0   0   0   0   0   0   0\n",
            "   0   0   0   0   0   0   0   0   0   0   0   0   0  16  93 252 253 187\n",
            "   0   0   0   0   0   0   0   0   0   0   0   0   0   0   0   0   0   0\n",
            "   0   0   0   0   0   0   0 249 253 249  64   0   0   0   0   0   0   0\n",
            "   0   0   0   0   0   0   0   0   0   0   0   0   0   0  46 130 183 253\n",
            " 253 207   2   0   0   0   0   0   0   0   0   0   0   0   0   0   0   0\n",
            "   0   0   0   0  39 148 229 253 253 253 250 182   0   0   0   0   0   0\n",
            "   0   0   0   0   0   0   0   0   0   0   0   0  24 114 221 253 253 253\n",
            " 253 201  78   0   0   0   0   0   0   0   0   0   0   0   0   0   0   0\n",
            "   0   0  23  66 213 253 253 253 253 198  81   2   0   0   0   0   0   0\n",
            "   0   0   0   0   0   0   0   0   0   0  18 171 219 253 253 253 253 195\n",
            "  80   9   0   0   0   0   0   0   0   0   0   0   0   0   0   0   0   0\n",
            "  55 172 226 253 253 253 253 244 133  11   0   0   0   0   0   0   0   0\n",
            "   0   0   0   0   0   0   0   0   0   0 136 253 253 253 212 135 132  16\n",
            "   0   0   0   0   0   0   0   0   0   0   0   0   0   0   0   0   0   0\n",
            "   0   0   0   0   0   0   0   0   0   0   0   0   0   0   0   0   0   0\n",
            "   0   0   0   0   0   0   0   0   0   0   0   0   0   0   0   0   0   0\n",
            "   0   0   0   0   0   0   0   0   0   0   0   0   0   0   0   0   0   0\n",
            "   0   0   0   0   0   0   0   0   0   0   0   0   0   0   0   0   0   0\n",
            "   0   0   0   0   0   0   0   0   0   0]\n"
          ]
        },
        {
          "output_type": "execute_result",
          "data": {
            "text/plain": [
              "<matplotlib.image.AxesImage at 0x7f0b76591660>"
            ]
          },
          "metadata": {},
          "execution_count": 39
        },
        {
          "output_type": "display_data",
          "data": {
            "text/plain": [
              "<Figure size 640x480 with 1 Axes>"
            ],
            "image/png": "[encoded data removed]"
          },
          "metadata": {}
        }
      ]
    },
    {
      "cell_type": "code",
      "source": [
        "import matplotlib.pyplot as plt\n",
        "\n",
        "traind = train.drop('label', axis=1)\n",
        "print(traind.shape)\n",
        "print(traind.head(1))\n",
        "print(traind.iloc[0].values)\n",
        "plt.imshow(traind.iloc[5].values.reshape(28, 28))"
      ],
      "metadata": {
        "colab": {
          "base_uri": "https://localhost:8080/",
          "height": 1000
        },
        "id": "uUlJaRoou5Ck",
        "outputId": "8adeb7db-1f88-45f0-fc26-b61e181da263"
      },
      "execution_count": 40,
      "outputs": [
        {
          "output_type": "stream",
          "name": "stdout",
          "text": [
            "(60000, 784)\n",
            "   1x1  1x2  1x3  1x4  1x5  1x6  1x7  1x8  1x9  1x10  ...  28x19  28x20  \\\n",
            "0    0    0    0    0    0    0    0    0    0     0  ...      0      0   \n",
            "\n",
            "   28x21  28x22  28x23  28x24  28x25  28x26  28x27  28x28  \n",
            "0      0      0      0      0      0      0      0      0  \n",
            "\n",
            "[1 rows x 784 columns]\n",
            "[  0   0   0   0   0   0   0   0   0   0   0   0   0   0   0   0   0   0\n",
            "   0   0   0   0   0   0   0   0   0   0   0   0   0   0   0   0   0   0\n",
            "   0   0   0   0   0   0   0   0   0   0   0   0   0   0   0   0   0   0\n",
            "   0   0   0   0   0   0   0   0   0   0   0   0   0   0   0   0   0   0\n",
            "   0   0   0   0   0   0   0   0   0   0   0   0   0   0   0   0   0   0\n",
            "   0   0   0   0   0   0   0   0   0   0   0   0   0   0   0   0   0   0\n",
            "   0   0   0   0   0   0   0   0   0   0   0   0   0   0   0   0   0   0\n",
            "   0   0   0   0   0   0   0   0   0   0   0   0   0   0   0   0   0   0\n",
            "   0   0   0   0   0   0   0   0   3  18  18  18 126 136 175  26 166 255\n",
            " 247 127   0   0   0   0   0   0   0   0   0   0   0   0  30  36  94 154\n",
            " 170 253 253 253 253 253 225 172 253 242 195  64   0   0   0   0   0   0\n",
            "   0   0   0   0   0  49 238 253 253 253 253 253 253 253 253 251  93  82\n",
            "  82  56  39   0   0   0   0   0   0   0   0   0   0   0   0  18 219 253\n",
            " 253 253 253 253 198 182 247 241   0   0   0   0   0   0   0   0   0   0\n",
            "   0   0   0   0   0   0   0   0  80 156 107 253 253 205  11   0  43 154\n",
            "   0   0   0   0   0   0   0   0   0   0   0   0   0   0   0   0   0   0\n",
            "   0  14   1 154 253  90   0   0   0   0   0   0   0   0   0   0   0   0\n",
            "   0   0   0   0   0   0   0   0   0   0   0   0   0 139 253 190   2   0\n",
            "   0   0   0   0   0   0   0   0   0   0   0   0   0   0   0   0   0   0\n",
            "   0   0   0   0   0  11 190 253  70   0   0   0   0   0   0   0   0   0\n",
            "   0   0   0   0   0   0   0   0   0   0   0   0   0   0   0   0  35 241\n",
            " 225 160 108   1   0   0   0   0   0   0   0   0   0   0   0   0   0   0\n",
            "   0   0   0   0   0   0   0   0   0  81 240 253 253 119  25   0   0   0\n",
            "   0   0   0   0   0   0   0   0   0   0   0   0   0   0   0   0   0   0\n",
            "   0   0  45 186 253 253 150  27   0   0   0   0   0   0   0   0   0   0\n",
            "   0   0   0   0   0   0   0   0   0   0   0   0   0  16  93 252 253 187\n",
            "   0   0   0   0   0   0   0   0   0   0   0   0   0   0   0   0   0   0\n",
            "   0   0   0   0   0   0   0 249 253 249  64   0   0   0   0   0   0   0\n",
            "   0   0   0   0   0   0   0   0   0   0   0   0   0   0  46 130 183 253\n",
            " 253 207   2   0   0   0   0   0   0   0   0   0   0   0   0   0   0   0\n",
            "   0   0   0   0  39 148 229 253 253 253 250 182   0   0   0   0   0   0\n",
            "   0   0   0   0   0   0   0   0   0   0   0   0  24 114 221 253 253 253\n",
            " 253 201  78   0   0   0   0   0   0   0   0   0   0   0   0   0   0   0\n",
            "   0   0  23  66 213 253 253 253 253 198  81   2   0   0   0   0   0   0\n",
            "   0   0   0   0   0   0   0   0   0   0  18 171 219 253 253 253 253 195\n",
            "  80   9   0   0   0   0   0   0   0   0   0   0   0   0   0   0   0   0\n",
            "  55 172 226 253 253 253 253 244 133  11   0   0   0   0   0   0   0   0\n",
            "   0   0   0   0   0   0   0   0   0   0 136 253 253 253 212 135 132  16\n",
            "   0   0   0   0   0   0   0   0   0   0   0   0   0   0   0   0   0   0\n",
            "   0   0   0   0   0   0   0   0   0   0   0   0   0   0   0   0   0   0\n",
            "   0   0   0   0   0   0   0   0   0   0   0   0   0   0   0   0   0   0\n",
            "   0   0   0   0   0   0   0   0   0   0   0   0   0   0   0   0   0   0\n",
            "   0   0   0   0   0   0   0   0   0   0   0   0   0   0   0   0   0   0\n",
            "   0   0   0   0   0   0   0   0   0   0]\n"
          ]
        },
        {
          "output_type": "execute_result",
          "data": {
            "text/plain": [
              "<matplotlib.image.AxesImage at 0x7f0b76464a00>"
            ]
          },
          "metadata": {},
          "execution_count": 40
        },
        {
          "output_type": "display_data",
          "data": {
            "text/plain": [
              "<Figure size 640x480 with 1 Axes>"
            ],
            "image/png": "[encoded data removed]"
          },
          "metadata": {}
        }
      ]
    },
    {
      "cell_type": "code",
      "source": [
        "type(traind)"
      ],
      "metadata": {
        "colab": {
          "base_uri": "https://localhost:8080/",
          "height": 203
        },
        "id": "rKE_WHn7tO4p",
        "outputId": "962d2d9b-929a-4551-fdfc-04ccedeb9c21"
      },
      "execution_count": 41,
      "outputs": [
        {
          "output_type": "execute_result",
          "data": {
            "text/plain": [
              "pandas.core.frame.DataFrame"
            ],
            "text/html": [
              "<div style=\"max-width:800px; border: 1px solid var(--colab-border-color);\"><style>\n",
              "      pre.function-repr-contents {\n",
              "        overflow-x: auto;\n",
              "        padding: 8px 12px;\n",
              "        max-height: 500px;\n",
              "      }\n",
              "\n",
              "      pre.function-repr-contents.function-repr-contents-collapsed {\n",
              "        cursor: pointer;\n",
              "        max-height: 100px;\n",
              "      }\n",
              "    </style>\n",
              "    <pre style=\"white-space: initial; background:\n",
              "         var(--colab-secondary-surface-color); padding: 8px 12px;\n",
              "         border-bottom: 1px solid var(--colab-border-color);\"><b>pandas.core.frame.DataFrame</b><br/>def __init__(data=None, index: Axes | None=None, columns: Axes | None=None, dtype: Dtype | None=None, copy: bool | None=None) -&gt; None</pre><pre class=\"function-repr-contents function-repr-contents-collapsed\" style=\"\"><a class=\"filepath\" style=\"display:none\" href=\"#\">/usr/local/lib/python3.10/dist-packages/pandas/core/frame.py</a>Two-dimensional, size-mutable, potentially heterogeneous tabular data.\n",
              "\n",
              "Data structure also contains labeled axes (rows and columns).\n",
              "Arithmetic operations align on both row and column labels. Can be\n",
              "thought of as a dict-like container for Series objects. The primary\n",
              "pandas data structure.\n",
              "\n",
              "Parameters\n",
              "----------\n",
              "data : ndarray (structured or homogeneous), Iterable, dict, or DataFrame\n",
              "    Dict can contain Series, arrays, constants, dataclass or list-like objects. If\n",
              "    data is a dict, column order follows insertion-order. If a dict contains Series\n",
              "    which have an index defined, it is aligned by its index. This alignment also\n",
              "    occurs if data is a Series or a DataFrame itself. Alignment is done on\n",
              "    Series/DataFrame inputs.\n",
              "\n",
              "    If data is a list of dicts, column order follows insertion-order.\n",
              "\n",
              "index : Index or array-like\n",
              "    Index to use for resulting frame. Will default to RangeIndex if\n",
              "    no indexing information part of input data and no index provided.\n",
              "columns : Index or array-like\n",
              "    Column labels to use for resulting frame when data does not have them,\n",
              "    defaulting to RangeIndex(0, 1, 2, ..., n). If data contains column labels,\n",
              "    will perform column selection instead.\n",
              "dtype : dtype, default None\n",
              "    Data type to force. Only a single dtype is allowed. If None, infer.\n",
              "copy : bool or None, default None\n",
              "    Copy data from inputs.\n",
              "    For dict data, the default of None behaves like ``copy=True``.  For DataFrame\n",
              "    or 2d ndarray input, the default of None behaves like ``copy=False``.\n",
              "    If data is a dict containing one or more Series (possibly of different dtypes),\n",
              "    ``copy=False`` will ensure that these inputs are not copied.\n",
              "\n",
              "    .. versionchanged:: 1.3.0\n",
              "\n",
              "See Also\n",
              "--------\n",
              "DataFrame.from_records : Constructor from tuples, also record arrays.\n",
              "DataFrame.from_dict : From dicts of Series, arrays, or dicts.\n",
              "read_csv : Read a comma-separated values (csv) file into DataFrame.\n",
              "read_table : Read general delimited file into DataFrame.\n",
              "read_clipboard : Read text from clipboard into DataFrame.\n",
              "\n",
              "Notes\n",
              "-----\n",
              "Please reference the :ref:`User Guide &lt;basics.dataframe&gt;` for more information.\n",
              "\n",
              "Examples\n",
              "--------\n",
              "Constructing DataFrame from a dictionary.\n",
              "\n",
              "&gt;&gt;&gt; d = {&#x27;col1&#x27;: [1, 2], &#x27;col2&#x27;: [3, 4]}\n",
              "&gt;&gt;&gt; df = pd.DataFrame(data=d)\n",
              "&gt;&gt;&gt; df\n",
              "   col1  col2\n",
              "0     1     3\n",
              "1     2     4\n",
              "\n",
              "Notice that the inferred dtype is int64.\n",
              "\n",
              "&gt;&gt;&gt; df.dtypes\n",
              "col1    int64\n",
              "col2    int64\n",
              "dtype: object\n",
              "\n",
              "To enforce a single dtype:\n",
              "\n",
              "&gt;&gt;&gt; df = pd.DataFrame(data=d, dtype=np.int8)\n",
              "&gt;&gt;&gt; df.dtypes\n",
              "col1    int8\n",
              "col2    int8\n",
              "dtype: object\n",
              "\n",
              "Constructing DataFrame from a dictionary including Series:\n",
              "\n",
              "&gt;&gt;&gt; d = {&#x27;col1&#x27;: [0, 1, 2, 3], &#x27;col2&#x27;: pd.Series([2, 3], index=[2, 3])}\n",
              "&gt;&gt;&gt; pd.DataFrame(data=d, index=[0, 1, 2, 3])\n",
              "   col1  col2\n",
              "0     0   NaN\n",
              "1     1   NaN\n",
              "2     2   2.0\n",
              "3     3   3.0\n",
              "\n",
              "Constructing DataFrame from numpy ndarray:\n",
              "\n",
              "&gt;&gt;&gt; df2 = pd.DataFrame(np.array([[1, 2, 3], [4, 5, 6], [7, 8, 9]]),\n",
              "...                    columns=[&#x27;a&#x27;, &#x27;b&#x27;, &#x27;c&#x27;])\n",
              "&gt;&gt;&gt; df2\n",
              "   a  b  c\n",
              "0  1  2  3\n",
              "1  4  5  6\n",
              "2  7  8  9\n",
              "\n",
              "Constructing DataFrame from a numpy ndarray that has labeled columns:\n",
              "\n",
              "&gt;&gt;&gt; data = np.array([(1, 2, 3), (4, 5, 6), (7, 8, 9)],\n",
              "...                 dtype=[(&quot;a&quot;, &quot;i4&quot;), (&quot;b&quot;, &quot;i4&quot;), (&quot;c&quot;, &quot;i4&quot;)])\n",
              "&gt;&gt;&gt; df3 = pd.DataFrame(data, columns=[&#x27;c&#x27;, &#x27;a&#x27;])\n",
              "...\n",
              "&gt;&gt;&gt; df3\n",
              "   c  a\n",
              "0  3  1\n",
              "1  6  4\n",
              "2  9  7\n",
              "\n",
              "Constructing DataFrame from dataclass:\n",
              "\n",
              "&gt;&gt;&gt; from dataclasses import make_dataclass\n",
              "&gt;&gt;&gt; Point = make_dataclass(&quot;Point&quot;, [(&quot;x&quot;, int), (&quot;y&quot;, int)])\n",
              "&gt;&gt;&gt; pd.DataFrame([Point(0, 0), Point(0, 3), Point(2, 3)])\n",
              "   x  y\n",
              "0  0  0\n",
              "1  0  3\n",
              "2  2  3\n",
              "\n",
              "Constructing DataFrame from Series/DataFrame:\n",
              "\n",
              "&gt;&gt;&gt; ser = pd.Series([1, 2, 3], index=[&quot;a&quot;, &quot;b&quot;, &quot;c&quot;])\n",
              "&gt;&gt;&gt; df = pd.DataFrame(data=ser, index=[&quot;a&quot;, &quot;c&quot;])\n",
              "&gt;&gt;&gt; df\n",
              "   0\n",
              "a  1\n",
              "c  3\n",
              "\n",
              "&gt;&gt;&gt; df1 = pd.DataFrame([1, 2, 3], index=[&quot;a&quot;, &quot;b&quot;, &quot;c&quot;], columns=[&quot;x&quot;])\n",
              "&gt;&gt;&gt; df2 = pd.DataFrame(data=df1, index=[&quot;a&quot;, &quot;c&quot;])\n",
              "&gt;&gt;&gt; df2\n",
              "   x\n",
              "a  1\n",
              "c  3</pre>\n",
              "      <script>\n",
              "      if (google.colab.kernel.accessAllowed && google.colab.files && google.colab.files.view) {\n",
              "        for (const element of document.querySelectorAll('.filepath')) {\n",
              "          element.style.display = 'block'\n",
              "          element.onclick = (event) => {\n",
              "            event.preventDefault();\n",
              "            event.stopPropagation();\n",
              "            google.colab.files.view(element.textContent, 490);\n",
              "          };\n",
              "        }\n",
              "      }\n",
              "      for (const element of document.querySelectorAll('.function-repr-contents')) {\n",
              "        element.onclick = (event) => {\n",
              "          event.preventDefault();\n",
              "          event.stopPropagation();\n",
              "          element.classList.toggle('function-repr-contents-collapsed');\n",
              "        };\n",
              "      }\n",
              "      </script>\n",
              "      </div>"
            ]
          },
          "metadata": {},
          "execution_count": 41
        }
      ]
    },
    {
      "cell_type": "code",
      "source": [
        "print(train.iloc[0:,0])"
      ],
      "metadata": {
        "colab": {
          "base_uri": "https://localhost:8080/"
        },
        "id": "F3O1W2VIvgtS",
        "outputId": "a82b6a1f-9ba8-49a5-c189-f381c71609d5"
      },
      "execution_count": 42,
      "outputs": [
        {
          "output_type": "stream",
          "name": "stdout",
          "text": [
            "0        5\n",
            "1        0\n",
            "2        4\n",
            "3        1\n",
            "4        9\n",
            "        ..\n",
            "59995    8\n",
            "59996    3\n",
            "59997    5\n",
            "59998    6\n",
            "59999    8\n",
            "Name: label, Length: 60000, dtype: int64\n"
          ]
        }
      ]
    },
    {
      "cell_type": "code",
      "source": [
        "train_labels = train.iloc[0:,0]\n",
        "test_labels = test.iloc[0:,0]\n",
        "train_data = train.iloc[0:,1:]\n",
        "test_data = test.iloc[0:,1:]"
      ],
      "metadata": {
        "id": "8-i7nfKR_Dgu"
      },
      "execution_count": 43,
      "outputs": []
    },
    {
      "cell_type": "code",
      "source": [
        "import torch\n",
        "\n",
        "train_data = torch.tensor(train_data.to_numpy()).float()\n",
        "train_labels = torch.tensor(train_labels.to_numpy()).long()  # labels are usually long for classification tasks\n",
        "test_data = torch.tensor(test_data.to_numpy()).float()\n",
        "test_labels = torch.tensor(test_labels.to_numpy()).long()"
      ],
      "metadata": {
        "id": "c5cBhyGG_VRn"
      },
      "execution_count": 44,
      "outputs": []
    },
    {
      "cell_type": "code",
      "source": [
        "import torch\n",
        "import torch.nn as nn\n",
        "import torch.nn.functional as F"
      ],
      "metadata": {
        "id": "Xx_OJ84n_5KH"
      },
      "execution_count": 13,
      "outputs": []
    },
    {
      "cell_type": "code",
      "source": [
        "class Net(nn.Module):\n",
        "\n",
        "  def __init__(self):\n",
        "    super().__init__()\n",
        "    self.flatten = nn.Flatten()\n",
        "    self.linear_relu_stack = nn.Sequential(\n",
        "        nn.Linear(28*28, 512),\n",
        "        nn.ReLU(),\n",
        "        nn.Linear(512, 254),\n",
        "        nn.ReLU(),\n",
        "        nn.Linear(254, 150),\n",
        "        nn.ReLU(),\n",
        "        nn.Linear(150, 10),\n",
        "    )\n",
        "\n",
        "  def forward(self, x):\n",
        "    x = self.flatten(x)\n",
        "    logits = self.linear_relu_stack(x)\n",
        "    output = F.log_softmax(logits, dim=1)\n",
        "    return output\n"
      ],
      "metadata": {
        "id": "RAKqVwIoBKPr"
      },
      "execution_count": 33,
      "outputs": []
    },
    {
      "cell_type": "code",
      "source": [
        "device = (\n",
        "    \"cuda\"\n",
        "    if torch.cuda.is_available()\n",
        "    else \"mps\"\n",
        "    if torch.backends.mps.is_available()\n",
        "    else \"cpu\"\n",
        ")\n",
        "print(f\"Using {device} device\")"
      ],
      "metadata": {
        "colab": {
          "base_uri": "https://localhost:8080/"
        },
        "id": "umcGcOtBCOqJ",
        "outputId": "91855e67-5d91-4a77-bb1f-c3b4a4995560"
      },
      "execution_count": 22,
      "outputs": [
        {
          "output_type": "stream",
          "name": "stdout",
          "text": [
            "Using cpu device\n"
          ]
        }
      ]
    },
    {
      "cell_type": "code",
      "source": [],
      "metadata": {
        "id": "rdgzuAXYFz2C"
      },
      "execution_count": null,
      "outputs": []
    },
    {
      "cell_type": "code",
      "source": [
        "model = Net().to(device)\n",
        "print(model)"
      ],
      "metadata": {
        "colab": {
          "base_uri": "https://localhost:8080/"
        },
        "id": "XlN-CAq4CXyX",
        "outputId": "4738b0e6-6c54-4b15-fd04-83261b9a5f89"
      },
      "execution_count": 23,
      "outputs": [
        {
          "output_type": "stream",
          "name": "stdout",
          "text": [
            "Net(\n",
            "  (flatten): Flatten(start_dim=1, end_dim=-1)\n",
            "  (linear_relu_stack): Sequential(\n",
            "    (0): Linear(in_features=784, out_features=512, bias=True)\n",
            "    (1): ReLU()\n",
            "    (2): Linear(in_features=512, out_features=254, bias=True)\n",
            "    (3): ReLU()\n",
            "    (4): Linear(in_features=254, out_features=150, bias=True)\n",
            "    (5): ReLU()\n",
            "    (6): Linear(in_features=150, out_features=10, bias=True)\n",
            "  )\n",
            ")\n"
          ]
        }
      ]
    },
    {
      "cell_type": "code",
      "source": [
        "print(train_data.shape)"
      ],
      "metadata": {
        "colab": {
          "base_uri": "https://localhost:8080/"
        },
        "id": "9_iao2SYF1Xc",
        "outputId": "979b63f0-2193-4f1c-daf6-e37c22fc1dc7"
      },
      "execution_count": 27,
      "outputs": [
        {
          "output_type": "stream",
          "name": "stdout",
          "text": [
            "torch.Size([60000, 784])\n"
          ]
        }
      ]
    },
    {
      "cell_type": "code",
      "source": [
        "X = train_data[0,:].view(1,28,28)\n",
        "pred_probab = model(X)\n",
        "y_pred = pred_probab.argmax(1)\n",
        "print(f\"Predicted class: {y_pred}\")\n",
        "print(f\"Actual class: {train_labels[0]}\")"
      ],
      "metadata": {
        "colab": {
          "base_uri": "https://localhost:8080/"
        },
        "id": "HXrqjlwCCbZe",
        "outputId": "327cbd4e-a17a-4d45-831f-93a3b8ce19c7"
      },
      "execution_count": 46,
      "outputs": [
        {
          "output_type": "stream",
          "name": "stdout",
          "text": [
            "Predicted class: tensor([9])\n",
            "Actual class: 5\n"
          ]
        }
      ]
    },
    {
      "cell_type": "code",
      "source": [
        "learning_rate = 1e-3\n",
        "batch_size = 64\n",
        "epochs = 5\n",
        "optimizer = torch.optim.SGD(model.parameters(), lr=learning_rate)\n",
        "loss_fn = nn.CrossEntropyLoss()"
      ],
      "metadata": {
        "id": "G0v_LLrSDgo0"
      },
      "execution_count": 60,
      "outputs": []
    },
    {
      "cell_type": "code",
      "source": [
        "import torch\n",
        "from torch.utils.data import DataLoader\n",
        "from torch.utils.data import TensorDataset\n",
        "#dataloader\n",
        "train_dataset = TensorDataset(train_data, train_labels)\n",
        "test_dataset = TensorDataset(test_data, test_labels)\n",
        "train_dataloader = DataLoader(train_dataset, batch_size=batch_size, shuffle=True)\n",
        "test_dataloader = DataLoader(test_dataset, batch_size=batch_size, shuffle=False)"
      ],
      "metadata": {
        "id": "EWjyy8wSIs8q"
      },
      "execution_count": 52,
      "outputs": []
    },
    {
      "cell_type": "code",
      "source": [
        "def train_loop(dataloader, model, loss_fn, optimizer):\n",
        "    size = len(dataloader.dataset)\n",
        "    model.train()\n",
        "    for batch, (X, y) in enumerate(dataloader):\n",
        "        # Compute prediction and loss\n",
        "        pred = model(X)\n",
        "        loss = loss_fn(pred, y)\n",
        "\n",
        "        # Backpropagation\n",
        "        optimizer.zero_grad()\n",
        "        loss.backward()\n",
        "        optimizer.step()\n",
        "\n",
        "        if batch % 100 == 0:\n",
        "            loss, current = loss.item(), batch * len(X)\n",
        "            print(f\"loss: {loss:>7f}  [{current:>5d}/{size:>5d}]\")\n",
        "\n",
        "# Define the testing loop\n",
        "def test_loop(dataloader, model, loss_fn):\n",
        "    model.eval()\n",
        "    size = len(dataloader.dataset)\n",
        "    num_batches = len(dataloader)\n",
        "    test_loss, correct = 0, 0\n",
        "\n",
        "    with torch.no_grad():\n",
        "        for X, y in dataloader:\n",
        "            pred = model(X)\n",
        "            test_loss += loss_fn(pred, y).item()\n",
        "            correct += (pred.argmax(1) == y).type(torch.float).sum().item()\n",
        "\n",
        "    test_loss /= num_batches\n",
        "    correct /= size\n",
        "    print(f\"Test Error: \\n Accuracy: {(100*correct):>0.1f}%, Avg loss: {test_loss:>8f} \\n\")"
      ],
      "metadata": {
        "id": "iC8nc1q6JLQI"
      },
      "execution_count": 53,
      "outputs": []
    },
    {
      "cell_type": "code",
      "source": [
        "learning_rate = 1e-3\n",
        "batch_size = 64\n",
        "epochs = 10\n",
        "optimizer = torch.optim.SGD(model.parameters(), lr=learning_rate)\n",
        "loss_fn = nn.CrossEntropyLoss()\n",
        "for epoch in range(epochs):\n",
        "    print(f\"Epoch {epoch+1}\\n-------------------------------\")\n",
        "    train_loop(train_dataloader, model, loss_fn, optimizer)\n",
        "    test_loop(test_dataloader, model, loss_fn)\n",
        "print(\"Done!\")"
      ],
      "metadata": {
        "colab": {
          "base_uri": "https://localhost:8080/"
        },
        "id": "yUFPuTR2JGtm",
        "outputId": "5460b10a-08d0-43a8-8ef3-e0934a69400a"
      },
      "execution_count": 61,
      "outputs": [
        {
          "output_type": "stream",
          "name": "stdout",
          "text": [
            "Epoch 1\n",
            "-------------------------------\n",
            "loss: 0.121001  [    0/60000]\n",
            "loss: 0.023506  [ 6400/60000]\n",
            "loss: 0.036275  [12800/60000]\n",
            "loss: 0.017593  [19200/60000]\n",
            "loss: 0.035224  [25600/60000]\n",
            "loss: 0.012120  [32000/60000]\n",
            "loss: 0.051604  [38400/60000]\n",
            "loss: 0.010173  [44800/60000]\n",
            "loss: 0.016638  [51200/60000]\n",
            "loss: 0.050330  [57600/60000]\n",
            "Test Error: \n",
            " Accuracy: 97.0%, Avg loss: 0.094783 \n",
            "\n",
            "Epoch 2\n",
            "-------------------------------\n",
            "loss: 0.026007  [    0/60000]\n",
            "loss: 0.013788  [ 6400/60000]\n",
            "loss: 0.019524  [12800/60000]\n",
            "loss: 0.020223  [19200/60000]\n",
            "loss: 0.015501  [25600/60000]\n",
            "loss: 0.065042  [32000/60000]\n",
            "loss: 0.013645  [38400/60000]\n",
            "loss: 0.028476  [44800/60000]\n",
            "loss: 0.033190  [51200/60000]\n",
            "loss: 0.033175  [57600/60000]\n",
            "Test Error: \n",
            " Accuracy: 97.2%, Avg loss: 0.090109 \n",
            "\n",
            "Epoch 3\n",
            "-------------------------------\n",
            "loss: 0.027742  [    0/60000]\n",
            "loss: 0.009672  [ 6400/60000]\n",
            "loss: 0.062183  [12800/60000]\n",
            "loss: 0.016380  [19200/60000]\n",
            "loss: 0.013529  [25600/60000]\n",
            "loss: 0.013463  [32000/60000]\n",
            "loss: 0.010242  [38400/60000]\n",
            "loss: 0.013294  [44800/60000]\n",
            "loss: 0.013716  [51200/60000]\n",
            "loss: 0.003455  [57600/60000]\n",
            "Test Error: \n",
            " Accuracy: 97.4%, Avg loss: 0.088349 \n",
            "\n",
            "Epoch 4\n",
            "-------------------------------\n",
            "loss: 0.004347  [    0/60000]\n",
            "loss: 0.021144  [ 6400/60000]\n",
            "loss: 0.014247  [12800/60000]\n",
            "loss: 0.012351  [19200/60000]\n",
            "loss: 0.043597  [25600/60000]\n",
            "loss: 0.036161  [32000/60000]\n",
            "loss: 0.062410  [38400/60000]\n",
            "loss: 0.019792  [44800/60000]\n",
            "loss: 0.049449  [51200/60000]\n",
            "loss: 0.067008  [57600/60000]\n",
            "Test Error: \n",
            " Accuracy: 96.9%, Avg loss: 0.100720 \n",
            "\n",
            "Epoch 5\n",
            "-------------------------------\n",
            "loss: 0.023894  [    0/60000]\n",
            "loss: 0.014666  [ 6400/60000]\n",
            "loss: 0.034620  [12800/60000]\n",
            "loss: 0.012275  [19200/60000]\n",
            "loss: 0.011127  [25600/60000]\n",
            "loss: 0.005411  [32000/60000]\n",
            "loss: 0.018743  [38400/60000]\n",
            "loss: 0.023180  [44800/60000]\n",
            "loss: 0.013645  [51200/60000]\n",
            "loss: 0.011859  [57600/60000]\n",
            "Test Error: \n",
            " Accuracy: 97.5%, Avg loss: 0.087603 \n",
            "\n",
            "Epoch 6\n",
            "-------------------------------\n",
            "loss: 0.059585  [    0/60000]\n",
            "loss: 0.009314  [ 6400/60000]\n",
            "loss: 0.006140  [12800/60000]\n",
            "loss: 0.021979  [19200/60000]\n",
            "loss: 0.007915  [25600/60000]\n",
            "loss: 0.013144  [32000/60000]\n",
            "loss: 0.009237  [38400/60000]\n",
            "loss: 0.070294  [44800/60000]\n",
            "loss: 0.046128  [51200/60000]\n",
            "loss: 0.010847  [57600/60000]\n",
            "Test Error: \n",
            " Accuracy: 97.4%, Avg loss: 0.087719 \n",
            "\n",
            "Epoch 7\n",
            "-------------------------------\n",
            "loss: 0.019525  [    0/60000]\n",
            "loss: 0.004885  [ 6400/60000]\n",
            "loss: 0.020621  [12800/60000]\n",
            "loss: 0.026188  [19200/60000]\n",
            "loss: 0.038542  [25600/60000]\n",
            "loss: 0.008989  [32000/60000]\n",
            "loss: 0.013195  [38400/60000]\n",
            "loss: 0.003228  [44800/60000]\n",
            "loss: 0.064354  [51200/60000]\n",
            "loss: 0.008188  [57600/60000]\n",
            "Test Error: \n",
            " Accuracy: 97.4%, Avg loss: 0.090556 \n",
            "\n",
            "Epoch 8\n",
            "-------------------------------\n",
            "loss: 0.009601  [    0/60000]\n",
            "loss: 0.008493  [ 6400/60000]\n",
            "loss: 0.010982  [12800/60000]\n",
            "loss: 0.009206  [19200/60000]\n",
            "loss: 0.019780  [25600/60000]\n",
            "loss: 0.011999  [32000/60000]\n",
            "loss: 0.092247  [38400/60000]\n",
            "loss: 0.004771  [44800/60000]\n",
            "loss: 0.009720  [51200/60000]\n",
            "loss: 0.010012  [57600/60000]\n",
            "Test Error: \n",
            " Accuracy: 97.5%, Avg loss: 0.085934 \n",
            "\n",
            "Epoch 9\n",
            "-------------------------------\n",
            "loss: 0.006945  [    0/60000]\n",
            "loss: 0.011420  [ 6400/60000]\n",
            "loss: 0.016906  [12800/60000]\n",
            "loss: 0.022750  [19200/60000]\n",
            "loss: 0.006238  [25600/60000]\n",
            "loss: 0.009844  [32000/60000]\n",
            "loss: 0.013270  [38400/60000]\n",
            "loss: 0.004637  [44800/60000]\n",
            "loss: 0.021336  [51200/60000]\n",
            "loss: 0.009972  [57600/60000]\n",
            "Test Error: \n",
            " Accuracy: 97.3%, Avg loss: 0.090745 \n",
            "\n",
            "Epoch 10\n",
            "-------------------------------\n",
            "loss: 0.020691  [    0/60000]\n",
            "loss: 0.003821  [ 6400/60000]\n",
            "loss: 0.010993  [12800/60000]\n",
            "loss: 0.011701  [19200/60000]\n",
            "loss: 0.022993  [25600/60000]\n",
            "loss: 0.013208  [32000/60000]\n",
            "loss: 0.014876  [38400/60000]\n",
            "loss: 0.006484  [44800/60000]\n",
            "loss: 0.022098  [51200/60000]\n",
            "loss: 0.005883  [57600/60000]\n",
            "Test Error: \n",
            " Accuracy: 97.5%, Avg loss: 0.087029 \n",
            "\n",
            "Done!\n"
          ]
        }
      ]
    },
    {
      "cell_type": "code",
      "source": [
        "X = train_data[0,:].view(1,28,28)\n",
        "pred_probab = model(X)\n",
        "y_pred = pred_probab.argmax(1)\n",
        "print(f\"Predicted class: {y_pred.item()}\")\n",
        "print(f\"Actual class: {train_labels[0]}\")"
      ],
      "metadata": {
        "colab": {
          "base_uri": "https://localhost:8080/"
        },
        "id": "V2z6WKROJnOv",
        "outputId": "1b7bff06-4fcd-4404-a441-f4930cf8ad22"
      },
      "execution_count": 62,
      "outputs": [
        {
          "output_type": "stream",
          "name": "stdout",
          "text": [
            "Predicted class: 5\n",
            "Actual class: 5\n"
          ]
        }
      ]
    },
    {
      "cell_type": "code",
      "source": [
        "learning_rate = 1e-4\n",
        "batch_size = 64\n",
        "epochs = 10\n",
        "optimizer = torch.optim.SGD(model.parameters(), lr=learning_rate)\n",
        "loss_fn = nn.CrossEntropyLoss()\n",
        "for epoch in range(epochs):\n",
        "    print(f\"Epoch {epoch+1}\\n-------------------------------\")\n",
        "    train_loop(train_dataloader, model, loss_fn, optimizer)\n",
        "    test_loop(test_dataloader, model, loss_fn)\n",
        "print(\"Done!\")"
      ],
      "metadata": {
        "colab": {
          "base_uri": "https://localhost:8080/"
        },
        "id": "i0ZwmyXFKIuE",
        "outputId": "2b04d25e-1086-48dd-f07d-b8cf323ae5bf"
      },
      "execution_count": 65,
      "outputs": [
        {
          "output_type": "stream",
          "name": "stdout",
          "text": [
            "Epoch 1\n",
            "-------------------------------\n",
            "loss: 0.003899  [    0/60000]\n",
            "loss: 0.006878  [ 6400/60000]\n",
            "loss: 0.019217  [12800/60000]\n",
            "loss: 0.003643  [19200/60000]\n",
            "loss: 0.006181  [25600/60000]\n",
            "loss: 0.010996  [32000/60000]\n",
            "loss: 0.002389  [38400/60000]\n",
            "loss: 0.008036  [44800/60000]\n",
            "loss: 0.003596  [51200/60000]\n",
            "loss: 0.002374  [57600/60000]\n",
            "Test Error: \n",
            " Accuracy: 97.6%, Avg loss: 0.085901 \n",
            "\n",
            "Epoch 2\n",
            "-------------------------------\n",
            "loss: 0.003161  [    0/60000]\n",
            "loss: 0.003578  [ 6400/60000]\n",
            "loss: 0.002512  [12800/60000]\n",
            "loss: 0.010120  [19200/60000]\n",
            "loss: 0.002613  [25600/60000]\n",
            "loss: 0.007292  [32000/60000]\n",
            "loss: 0.006431  [38400/60000]\n",
            "loss: 0.003035  [44800/60000]\n",
            "loss: 0.011968  [51200/60000]\n",
            "loss: 0.004176  [57600/60000]\n",
            "Test Error: \n",
            " Accuracy: 97.5%, Avg loss: 0.085696 \n",
            "\n",
            "Epoch 3\n",
            "-------------------------------\n",
            "loss: 0.003206  [    0/60000]\n",
            "loss: 0.007400  [ 6400/60000]\n",
            "loss: 0.005422  [12800/60000]\n",
            "loss: 0.001556  [19200/60000]\n",
            "loss: 0.005173  [25600/60000]\n",
            "loss: 0.002653  [32000/60000]\n",
            "loss: 0.000776  [38400/60000]\n",
            "loss: 0.004371  [44800/60000]\n",
            "loss: 0.002952  [51200/60000]\n",
            "loss: 0.009385  [57600/60000]\n",
            "Test Error: \n",
            " Accuracy: 97.5%, Avg loss: 0.085538 \n",
            "\n",
            "Epoch 4\n",
            "-------------------------------\n",
            "loss: 0.003026  [    0/60000]\n",
            "loss: 0.004548  [ 6400/60000]\n",
            "loss: 0.005942  [12800/60000]\n",
            "loss: 0.005217  [19200/60000]\n",
            "loss: 0.003912  [25600/60000]\n",
            "loss: 0.004131  [32000/60000]\n",
            "loss: 0.007802  [38400/60000]\n",
            "loss: 0.010766  [44800/60000]\n",
            "loss: 0.011664  [51200/60000]\n",
            "loss: 0.004124  [57600/60000]\n",
            "Test Error: \n",
            " Accuracy: 97.6%, Avg loss: 0.085603 \n",
            "\n",
            "Epoch 5\n",
            "-------------------------------\n",
            "loss: 0.011956  [    0/60000]\n",
            "loss: 0.007632  [ 6400/60000]\n",
            "loss: 0.001154  [12800/60000]\n",
            "loss: 0.004145  [19200/60000]\n",
            "loss: 0.002661  [25600/60000]\n",
            "loss: 0.005960  [32000/60000]\n",
            "loss: 0.002915  [38400/60000]\n",
            "loss: 0.008691  [44800/60000]\n",
            "loss: 0.006350  [51200/60000]\n",
            "loss: 0.005139  [57600/60000]\n",
            "Test Error: \n",
            " Accuracy: 97.6%, Avg loss: 0.085577 \n",
            "\n",
            "Epoch 6\n",
            "-------------------------------\n",
            "loss: 0.013122  [    0/60000]\n",
            "loss: 0.004472  [ 6400/60000]\n",
            "loss: 0.008382  [12800/60000]\n",
            "loss: 0.004988  [19200/60000]\n",
            "loss: 0.007030  [25600/60000]\n",
            "loss: 0.006839  [32000/60000]\n",
            "loss: 0.003554  [38400/60000]\n",
            "loss: 0.001545  [44800/60000]\n",
            "loss: 0.011451  [51200/60000]\n",
            "loss: 0.005591  [57600/60000]\n",
            "Test Error: \n",
            " Accuracy: 97.6%, Avg loss: 0.085632 \n",
            "\n",
            "Epoch 7\n",
            "-------------------------------\n",
            "loss: 0.002798  [    0/60000]\n",
            "loss: 0.008074  [ 6400/60000]\n",
            "loss: 0.001064  [12800/60000]\n",
            "loss: 0.004376  [19200/60000]\n",
            "loss: 0.001743  [25600/60000]\n",
            "loss: 0.005482  [32000/60000]\n",
            "loss: 0.008271  [38400/60000]\n",
            "loss: 0.003731  [44800/60000]\n",
            "loss: 0.005335  [51200/60000]\n",
            "loss: 0.001201  [57600/60000]\n",
            "Test Error: \n",
            " Accuracy: 97.6%, Avg loss: 0.085723 \n",
            "\n",
            "Epoch 8\n",
            "-------------------------------\n",
            "loss: 0.002213  [    0/60000]\n",
            "loss: 0.002549  [ 6400/60000]\n",
            "loss: 0.002218  [12800/60000]\n",
            "loss: 0.006137  [19200/60000]\n",
            "loss: 0.003402  [25600/60000]\n",
            "loss: 0.000616  [32000/60000]\n",
            "loss: 0.007177  [38400/60000]\n",
            "loss: 0.012017  [44800/60000]\n",
            "loss: 0.000787  [51200/60000]\n",
            "loss: 0.003562  [57600/60000]\n",
            "Test Error: \n",
            " Accuracy: 97.5%, Avg loss: 0.085595 \n",
            "\n",
            "Epoch 9\n",
            "-------------------------------\n",
            "loss: 0.004567  [    0/60000]\n",
            "loss: 0.003888  [ 6400/60000]\n",
            "loss: 0.001089  [12800/60000]\n",
            "loss: 0.006942  [19200/60000]\n",
            "loss: 0.012986  [25600/60000]\n",
            "loss: 0.002957  [32000/60000]\n",
            "loss: 0.004484  [38400/60000]\n",
            "loss: 0.004982  [44800/60000]\n",
            "loss: 0.003741  [51200/60000]\n",
            "loss: 0.003323  [57600/60000]\n",
            "Test Error: \n",
            " Accuracy: 97.6%, Avg loss: 0.085855 \n",
            "\n",
            "Epoch 10\n",
            "-------------------------------\n",
            "loss: 0.005447  [    0/60000]\n",
            "loss: 0.003652  [ 6400/60000]\n",
            "loss: 0.003051  [12800/60000]\n",
            "loss: 0.004299  [19200/60000]\n",
            "loss: 0.003285  [25600/60000]\n",
            "loss: 0.010778  [32000/60000]\n",
            "loss: 0.011841  [38400/60000]\n",
            "loss: 0.004721  [44800/60000]\n",
            "loss: 0.010290  [51200/60000]\n",
            "loss: 0.013194  [57600/60000]\n",
            "Test Error: \n",
            " Accuracy: 97.5%, Avg loss: 0.085722 \n",
            "\n",
            "Done!\n"
          ]
        }
      ]
    },
    {
      "cell_type": "code",
      "source": [
        "X = train_data[0,:].view(1,28,28)\n",
        "pred_probab = model(X)\n",
        "y_pred = pred_probab.argmax(1)\n",
        "print(f\"Predicted class: {y_pred.item()}\")\n",
        "print(f\"Actual class: {train_labels[0]}\")"
      ],
      "metadata": {
        "colab": {
          "base_uri": "https://localhost:8080/"
        },
        "id": "ZJEwxU19LLPy",
        "outputId": "1eb1086a-f046-4bac-9506-5ca45b0d979d"
      },
      "execution_count": 66,
      "outputs": [
        {
          "output_type": "stream",
          "name": "stdout",
          "text": [
            "Predicted class: 5\n",
            "Actual class: 5\n"
          ]
        }
      ]
    },
    {
      "cell_type": "code",
      "source": [
        "learning_rate = 1e-3\n",
        "batch_size = 32\n",
        "epochs = 10\n",
        "optimizer = torch.optim.SGD(model.parameters(), lr=learning_rate)\n",
        "loss_fn = nn.CrossEntropyLoss()\n",
        "for epoch in range(epochs):\n",
        "    print(f\"Epoch {epoch+1}\\n-------------------------------\")\n",
        "    train_loop(train_dataloader, model, loss_fn, optimizer)\n",
        "    test_loop(test_dataloader, model, loss_fn)\n",
        "print(\"Done!\")"
      ],
      "metadata": {
        "colab": {
          "base_uri": "https://localhost:8080/"
        },
        "id": "yuMAR-WUK4dx",
        "outputId": "8169e9dd-cdfb-46e9-bfb4-04dc985c1fd4"
      },
      "execution_count": 67,
      "outputs": [
        {
          "output_type": "stream",
          "name": "stdout",
          "text": [
            "Epoch 1\n",
            "-------------------------------\n",
            "loss: 0.006009  [    0/60000]\n",
            "loss: 0.012039  [ 6400/60000]\n",
            "loss: 0.001371  [12800/60000]\n",
            "loss: 0.011131  [19200/60000]\n",
            "loss: 0.001744  [25600/60000]\n",
            "loss: 0.005565  [32000/60000]\n",
            "loss: 0.005533  [38400/60000]\n",
            "loss: 0.003139  [44800/60000]\n",
            "loss: 0.012239  [51200/60000]\n",
            "loss: 0.005299  [57600/60000]\n",
            "Test Error: \n",
            " Accuracy: 97.5%, Avg loss: 0.087471 \n",
            "\n",
            "Epoch 2\n",
            "-------------------------------\n",
            "loss: 0.018672  [    0/60000]\n",
            "loss: 0.003564  [ 6400/60000]\n",
            "loss: 0.002169  [12800/60000]\n",
            "loss: 0.003051  [19200/60000]\n",
            "loss: 0.003182  [25600/60000]\n",
            "loss: 0.010111  [32000/60000]\n",
            "loss: 0.005246  [38400/60000]\n",
            "loss: 0.009631  [44800/60000]\n",
            "loss: 0.006203  [51200/60000]\n",
            "loss: 0.003117  [57600/60000]\n",
            "Test Error: \n",
            " Accuracy: 97.6%, Avg loss: 0.087275 \n",
            "\n",
            "Epoch 3\n",
            "-------------------------------\n",
            "loss: 0.002162  [    0/60000]\n",
            "loss: 0.005631  [ 6400/60000]\n",
            "loss: 0.005073  [12800/60000]\n",
            "loss: 0.001991  [19200/60000]\n",
            "loss: 0.004420  [25600/60000]\n",
            "loss: 0.011679  [32000/60000]\n",
            "loss: 0.003431  [38400/60000]\n",
            "loss: 0.004180  [44800/60000]\n",
            "loss: 0.006458  [51200/60000]\n",
            "loss: 0.007790  [57600/60000]\n",
            "Test Error: \n",
            " Accuracy: 97.5%, Avg loss: 0.088034 \n",
            "\n",
            "Epoch 4\n",
            "-------------------------------\n",
            "loss: 0.001338  [    0/60000]\n",
            "loss: 0.011278  [ 6400/60000]\n",
            "loss: 0.002907  [12800/60000]\n",
            "loss: 0.003429  [19200/60000]\n",
            "loss: 0.004700  [25600/60000]\n",
            "loss: 0.003558  [32000/60000]\n",
            "loss: 0.003206  [38400/60000]\n",
            "loss: 0.002479  [44800/60000]\n",
            "loss: 0.010291  [51200/60000]\n",
            "loss: 0.004612  [57600/60000]\n",
            "Test Error: \n",
            " Accuracy: 97.6%, Avg loss: 0.088043 \n",
            "\n",
            "Epoch 5\n",
            "-------------------------------\n",
            "loss: 0.003401  [    0/60000]\n",
            "loss: 0.002363  [ 6400/60000]\n",
            "loss: 0.002796  [12800/60000]\n",
            "loss: 0.003364  [19200/60000]\n",
            "loss: 0.003618  [25600/60000]\n",
            "loss: 0.004693  [32000/60000]\n",
            "loss: 0.004208  [38400/60000]\n",
            "loss: 0.003855  [44800/60000]\n",
            "loss: 0.001198  [51200/60000]\n",
            "loss: 0.007703  [57600/60000]\n",
            "Test Error: \n",
            " Accuracy: 97.6%, Avg loss: 0.087236 \n",
            "\n",
            "Epoch 6\n",
            "-------------------------------\n",
            "loss: 0.006025  [    0/60000]\n",
            "loss: 0.004108  [ 6400/60000]\n",
            "loss: 0.004032  [12800/60000]\n",
            "loss: 0.002021  [19200/60000]\n",
            "loss: 0.004444  [25600/60000]\n",
            "loss: 0.003336  [32000/60000]\n",
            "loss: 0.003241  [38400/60000]\n",
            "loss: 0.006586  [44800/60000]\n",
            "loss: 0.001944  [51200/60000]\n",
            "loss: 0.005611  [57600/60000]\n",
            "Test Error: \n",
            " Accuracy: 97.6%, Avg loss: 0.087023 \n",
            "\n",
            "Epoch 7\n",
            "-------------------------------\n",
            "loss: 0.007588  [    0/60000]\n",
            "loss: 0.004531  [ 6400/60000]\n",
            "loss: 0.005064  [12800/60000]\n",
            "loss: 0.002261  [19200/60000]\n",
            "loss: 0.003246  [25600/60000]\n",
            "loss: 0.003037  [32000/60000]\n",
            "loss: 0.008422  [38400/60000]\n",
            "loss: 0.001944  [44800/60000]\n",
            "loss: 0.002199  [51200/60000]\n",
            "loss: 0.002054  [57600/60000]\n",
            "Test Error: \n",
            " Accuracy: 97.6%, Avg loss: 0.088230 \n",
            "\n",
            "Epoch 8\n",
            "-------------------------------\n",
            "loss: 0.003816  [    0/60000]\n",
            "loss: 0.004682  [ 6400/60000]\n",
            "loss: 0.005817  [12800/60000]\n",
            "loss: 0.002670  [19200/60000]\n",
            "loss: 0.009374  [25600/60000]\n",
            "loss: 0.002857  [32000/60000]\n",
            "loss: 0.003778  [38400/60000]\n",
            "loss: 0.001184  [44800/60000]\n",
            "loss: 0.002875  [51200/60000]\n",
            "loss: 0.002441  [57600/60000]\n",
            "Test Error: \n",
            " Accuracy: 97.6%, Avg loss: 0.087989 \n",
            "\n",
            "Epoch 9\n",
            "-------------------------------\n",
            "loss: 0.005228  [    0/60000]\n",
            "loss: 0.006109  [ 6400/60000]\n",
            "loss: 0.001930  [12800/60000]\n",
            "loss: 0.002948  [19200/60000]\n",
            "loss: 0.006476  [25600/60000]\n",
            "loss: 0.001024  [32000/60000]\n",
            "loss: 0.005099  [38400/60000]\n",
            "loss: 0.003410  [44800/60000]\n",
            "loss: 0.004003  [51200/60000]\n",
            "loss: 0.001643  [57600/60000]\n",
            "Test Error: \n",
            " Accuracy: 97.6%, Avg loss: 0.087706 \n",
            "\n",
            "Epoch 10\n",
            "-------------------------------\n",
            "loss: 0.003865  [    0/60000]\n",
            "loss: 0.002966  [ 6400/60000]\n",
            "loss: 0.003625  [12800/60000]\n",
            "loss: 0.005953  [19200/60000]\n",
            "loss: 0.001072  [25600/60000]\n",
            "loss: 0.006060  [32000/60000]\n",
            "loss: 0.003994  [38400/60000]\n",
            "loss: 0.002279  [44800/60000]\n",
            "loss: 0.001500  [51200/60000]\n",
            "loss: 0.001702  [57600/60000]\n",
            "Test Error: \n",
            " Accuracy: 97.6%, Avg loss: 0.088661 \n",
            "\n",
            "Done!\n"
          ]
        }
      ]
    },
    {
      "cell_type": "code",
      "source": [
        "X = train_data[0,:].view(1,28,28)\n",
        "pred_probab = model(X)\n",
        "y_pred = pred_probab.argmax(1)\n",
        "print(f\"Predicted class: {y_pred.item()}\")\n",
        "print(f\"Actual class: {train_labels[0]}\")"
      ],
      "metadata": {
        "colab": {
          "base_uri": "https://localhost:8080/"
        },
        "id": "MpqeZ5MELMCl",
        "outputId": "0e0ec3c1-6637-4f29-f0d3-5acd947a8901"
      },
      "execution_count": 68,
      "outputs": [
        {
          "output_type": "stream",
          "name": "stdout",
          "text": [
            "Predicted class: 5\n",
            "Actual class: 5\n"
          ]
        }
      ]
    },
    {
      "cell_type": "code",
      "source": [
        "learning_rate = 1e-3\n",
        "batch_size = 64\n",
        "epochs = 15\n",
        "optimizer = torch.optim.SGD(model.parameters(), lr=learning_rate)\n",
        "loss_fn = nn.CrossEntropyLoss()\n",
        "for epoch in range(epochs):\n",
        "    print(f\"Epoch {epoch+1}\\n-------------------------------\")\n",
        "    train_loop(train_dataloader, model, loss_fn, optimizer)\n",
        "    test_loop(test_dataloader, model, loss_fn)\n",
        "print(\"Done!\")"
      ],
      "metadata": {
        "colab": {
          "base_uri": "https://localhost:8080/"
        },
        "id": "z27U0DjaK6bp",
        "outputId": "90327478-f033-4a0c-a15d-1802c020f6be"
      },
      "execution_count": 69,
      "outputs": [
        {
          "output_type": "stream",
          "name": "stdout",
          "text": [
            "Epoch 1\n",
            "-------------------------------\n",
            "loss: 0.005324  [    0/60000]\n",
            "loss: 0.003678  [ 6400/60000]\n",
            "loss: 0.004281  [12800/60000]\n",
            "loss: 0.000748  [19200/60000]\n",
            "loss: 0.000895  [25600/60000]\n",
            "loss: 0.001239  [32000/60000]\n",
            "loss: 0.002513  [38400/60000]\n",
            "loss: 0.002195  [44800/60000]\n",
            "loss: 0.003309  [51200/60000]\n",
            "loss: 0.003901  [57600/60000]\n",
            "Test Error: \n",
            " Accuracy: 97.6%, Avg loss: 0.088267 \n",
            "\n",
            "Epoch 2\n",
            "-------------------------------\n",
            "loss: 0.004278  [    0/60000]\n",
            "loss: 0.000980  [ 6400/60000]\n",
            "loss: 0.001098  [12800/60000]\n",
            "loss: 0.001934  [19200/60000]\n",
            "loss: 0.004600  [25600/60000]\n",
            "loss: 0.003465  [32000/60000]\n",
            "loss: 0.000521  [38400/60000]\n",
            "loss: 0.003855  [44800/60000]\n",
            "loss: 0.004440  [51200/60000]\n",
            "loss: 0.005258  [57600/60000]\n",
            "Test Error: \n",
            " Accuracy: 97.6%, Avg loss: 0.088384 \n",
            "\n",
            "Epoch 3\n",
            "-------------------------------\n",
            "loss: 0.002583  [    0/60000]\n",
            "loss: 0.002379  [ 6400/60000]\n",
            "loss: 0.002172  [12800/60000]\n",
            "loss: 0.018514  [19200/60000]\n",
            "loss: 0.002183  [25600/60000]\n",
            "loss: 0.004559  [32000/60000]\n",
            "loss: 0.003382  [38400/60000]\n",
            "loss: 0.002044  [44800/60000]\n",
            "loss: 0.004534  [51200/60000]\n",
            "loss: 0.000732  [57600/60000]\n",
            "Test Error: \n",
            " Accuracy: 97.6%, Avg loss: 0.090299 \n",
            "\n",
            "Epoch 4\n",
            "-------------------------------\n",
            "loss: 0.011052  [    0/60000]\n",
            "loss: 0.001471  [ 6400/60000]\n",
            "loss: 0.000320  [12800/60000]\n",
            "loss: 0.001971  [19200/60000]\n",
            "loss: 0.003346  [25600/60000]\n",
            "loss: 0.003159  [32000/60000]\n",
            "loss: 0.002612  [38400/60000]\n",
            "loss: 0.001136  [44800/60000]\n",
            "loss: 0.002463  [51200/60000]\n",
            "loss: 0.002887  [57600/60000]\n",
            "Test Error: \n",
            " Accuracy: 97.6%, Avg loss: 0.089097 \n",
            "\n",
            "Epoch 5\n",
            "-------------------------------\n",
            "loss: 0.001744  [    0/60000]\n",
            "loss: 0.002638  [ 6400/60000]\n",
            "loss: 0.001547  [12800/60000]\n",
            "loss: 0.002019  [19200/60000]\n",
            "loss: 0.002141  [25600/60000]\n",
            "loss: 0.001333  [32000/60000]\n",
            "loss: 0.001016  [38400/60000]\n",
            "loss: 0.001789  [44800/60000]\n",
            "loss: 0.002292  [51200/60000]\n",
            "loss: 0.002858  [57600/60000]\n",
            "Test Error: \n",
            " Accuracy: 97.6%, Avg loss: 0.089020 \n",
            "\n",
            "Epoch 6\n",
            "-------------------------------\n",
            "loss: 0.002351  [    0/60000]\n",
            "loss: 0.003380  [ 6400/60000]\n",
            "loss: 0.002298  [12800/60000]\n",
            "loss: 0.001343  [19200/60000]\n",
            "loss: 0.002059  [25600/60000]\n",
            "loss: 0.002775  [32000/60000]\n",
            "loss: 0.002483  [38400/60000]\n",
            "loss: 0.001609  [44800/60000]\n",
            "loss: 0.001683  [51200/60000]\n",
            "loss: 0.001412  [57600/60000]\n",
            "Test Error: \n",
            " Accuracy: 97.6%, Avg loss: 0.089115 \n",
            "\n",
            "Epoch 7\n",
            "-------------------------------\n",
            "loss: 0.001482  [    0/60000]\n",
            "loss: 0.000967  [ 6400/60000]\n",
            "loss: 0.000791  [12800/60000]\n",
            "loss: 0.001892  [19200/60000]\n",
            "loss: 0.003558  [25600/60000]\n",
            "loss: 0.001745  [32000/60000]\n",
            "loss: 0.005519  [38400/60000]\n",
            "loss: 0.000680  [44800/60000]\n",
            "loss: 0.001149  [51200/60000]\n",
            "loss: 0.001775  [57600/60000]\n",
            "Test Error: \n",
            " Accuracy: 97.6%, Avg loss: 0.090736 \n",
            "\n",
            "Epoch 8\n",
            "-------------------------------\n",
            "loss: 0.002545  [    0/60000]\n",
            "loss: 0.004103  [ 6400/60000]\n",
            "loss: 0.001262  [12800/60000]\n",
            "loss: 0.002383  [19200/60000]\n",
            "loss: 0.001872  [25600/60000]\n",
            "loss: 0.002819  [32000/60000]\n",
            "loss: 0.001689  [38400/60000]\n",
            "loss: 0.002432  [44800/60000]\n",
            "loss: 0.001972  [51200/60000]\n",
            "loss: 0.002086  [57600/60000]\n",
            "Test Error: \n",
            " Accuracy: 97.7%, Avg loss: 0.089571 \n",
            "\n",
            "Epoch 9\n",
            "-------------------------------\n",
            "loss: 0.000962  [    0/60000]\n",
            "loss: 0.002828  [ 6400/60000]\n",
            "loss: 0.001571  [12800/60000]\n",
            "loss: 0.001437  [19200/60000]\n",
            "loss: 0.001265  [25600/60000]\n",
            "loss: 0.001588  [32000/60000]\n",
            "loss: 0.003343  [38400/60000]\n",
            "loss: 0.003497  [44800/60000]\n",
            "loss: 0.002548  [51200/60000]\n",
            "loss: 0.001414  [57600/60000]\n",
            "Test Error: \n",
            " Accuracy: 97.6%, Avg loss: 0.089779 \n",
            "\n",
            "Epoch 10\n",
            "-------------------------------\n",
            "loss: 0.001637  [    0/60000]\n",
            "loss: 0.001437  [ 6400/60000]\n",
            "loss: 0.002748  [12800/60000]\n",
            "loss: 0.003908  [19200/60000]\n",
            "loss: 0.002203  [25600/60000]\n",
            "loss: 0.002172  [32000/60000]\n",
            "loss: 0.002783  [38400/60000]\n",
            "loss: 0.002885  [44800/60000]\n",
            "loss: 0.002299  [51200/60000]\n",
            "loss: 0.002127  [57600/60000]\n",
            "Test Error: \n",
            " Accuracy: 97.6%, Avg loss: 0.090074 \n",
            "\n",
            "Epoch 11\n",
            "-------------------------------\n",
            "loss: 0.001206  [    0/60000]\n",
            "loss: 0.001367  [ 6400/60000]\n",
            "loss: 0.000961  [12800/60000]\n",
            "loss: 0.000852  [19200/60000]\n",
            "loss: 0.000809  [25600/60000]\n",
            "loss: 0.002468  [32000/60000]\n",
            "loss: 0.002276  [38400/60000]\n",
            "loss: 0.001643  [44800/60000]\n",
            "loss: 0.002198  [51200/60000]\n",
            "loss: 0.003225  [57600/60000]\n",
            "Test Error: \n",
            " Accuracy: 97.6%, Avg loss: 0.090197 \n",
            "\n",
            "Epoch 12\n",
            "-------------------------------\n",
            "loss: 0.002357  [    0/60000]\n",
            "loss: 0.001829  [ 6400/60000]\n",
            "loss: 0.005584  [12800/60000]\n",
            "loss: 0.003495  [19200/60000]\n",
            "loss: 0.001413  [25600/60000]\n",
            "loss: 0.001471  [32000/60000]\n",
            "loss: 0.001106  [38400/60000]\n",
            "loss: 0.001216  [44800/60000]\n",
            "loss: 0.002060  [51200/60000]\n",
            "loss: 0.000174  [57600/60000]\n",
            "Test Error: \n",
            " Accuracy: 97.6%, Avg loss: 0.090321 \n",
            "\n",
            "Epoch 13\n",
            "-------------------------------\n",
            "loss: 0.000566  [    0/60000]\n",
            "loss: 0.001666  [ 6400/60000]\n",
            "loss: 0.001183  [12800/60000]\n",
            "loss: 0.000760  [19200/60000]\n",
            "loss: 0.001328  [25600/60000]\n",
            "loss: 0.001621  [32000/60000]\n",
            "loss: 0.002544  [38400/60000]\n",
            "loss: 0.000829  [44800/60000]\n",
            "loss: 0.003220  [51200/60000]\n",
            "loss: 0.001721  [57600/60000]\n",
            "Test Error: \n",
            " Accuracy: 97.7%, Avg loss: 0.090643 \n",
            "\n",
            "Epoch 14\n",
            "-------------------------------\n",
            "loss: 0.000343  [    0/60000]\n",
            "loss: 0.000910  [ 6400/60000]\n",
            "loss: 0.000588  [12800/60000]\n",
            "loss: 0.001868  [19200/60000]\n",
            "loss: 0.005519  [25600/60000]\n",
            "loss: 0.001190  [32000/60000]\n",
            "loss: 0.003354  [38400/60000]\n",
            "loss: 0.001635  [44800/60000]\n",
            "loss: 0.001150  [51200/60000]\n",
            "loss: 0.001371  [57600/60000]\n",
            "Test Error: \n",
            " Accuracy: 97.6%, Avg loss: 0.090465 \n",
            "\n",
            "Epoch 15\n",
            "-------------------------------\n",
            "loss: 0.001121  [    0/60000]\n",
            "loss: 0.000878  [ 6400/60000]\n",
            "loss: 0.001308  [12800/60000]\n",
            "loss: 0.001323  [19200/60000]\n",
            "loss: 0.001678  [25600/60000]\n",
            "loss: 0.003427  [32000/60000]\n",
            "loss: 0.000617  [38400/60000]\n",
            "loss: 0.001364  [44800/60000]\n",
            "loss: 0.004151  [51200/60000]\n",
            "loss: 0.001525  [57600/60000]\n",
            "Test Error: \n",
            " Accuracy: 97.6%, Avg loss: 0.091284 \n",
            "\n",
            "Done!\n"
          ]
        }
      ]
    },
    {
      "cell_type": "code",
      "source": [
        "X = train_data[0,:].view(1,28,28)\n",
        "pred_probab = model(X)\n",
        "y_pred = pred_probab.argmax(1)\n",
        "print(f\"Predicted class: {y_pred.item()}\")\n",
        "print(f\"Actual class: {train_labels[0]}\")"
      ],
      "metadata": {
        "colab": {
          "base_uri": "https://localhost:8080/"
        },
        "id": "IZXqTFBBLMxe",
        "outputId": "92f1c53d-c859-4017-8463-1c3b7af96700"
      },
      "execution_count": 70,
      "outputs": [
        {
          "output_type": "stream",
          "name": "stdout",
          "text": [
            "Predicted class: 5\n",
            "Actual class: 5\n"
          ]
        }
      ]
    },
    {
      "cell_type": "code",
      "source": [
        "learning_rate = 1e-3\n",
        "batch_size = 64\n",
        "epochs = 5\n",
        "optimizer = torch.optim.SGD(model.parameters(), lr=learning_rate)\n",
        "loss_fn = nn.CrossEntropyLoss()\n",
        "for epoch in range(epochs):\n",
        "    print(f\"Epoch {epoch+1}\\n-------------------------------\")\n",
        "    train_loop(train_dataloader, model, loss_fn, optimizer)\n",
        "    test_loop(test_dataloader, model, loss_fn)\n",
        "print(\"Done!\")"
      ],
      "metadata": {
        "colab": {
          "base_uri": "https://localhost:8080/"
        },
        "id": "IEB_6A6hK-JG",
        "outputId": "85d98127-7420-455c-9c39-d2e855658cb4"
      },
      "execution_count": 71,
      "outputs": [
        {
          "output_type": "stream",
          "name": "stdout",
          "text": [
            "Epoch 1\n",
            "-------------------------------\n",
            "loss: 0.001740  [    0/60000]\n",
            "loss: 0.000777  [ 6400/60000]\n",
            "loss: 0.000382  [12800/60000]\n",
            "loss: 0.000842  [19200/60000]\n",
            "loss: 0.004202  [25600/60000]\n",
            "loss: 0.000581  [32000/60000]\n",
            "loss: 0.000725  [38400/60000]\n",
            "loss: 0.001006  [44800/60000]\n",
            "loss: 0.001779  [51200/60000]\n",
            "loss: 0.001658  [57600/60000]\n",
            "Test Error: \n",
            " Accuracy: 97.6%, Avg loss: 0.091138 \n",
            "\n",
            "Epoch 2\n",
            "-------------------------------\n",
            "loss: 0.002072  [    0/60000]\n",
            "loss: 0.000705  [ 6400/60000]\n",
            "loss: 0.002622  [12800/60000]\n",
            "loss: 0.002219  [19200/60000]\n",
            "loss: 0.000386  [25600/60000]\n",
            "loss: 0.001314  [32000/60000]\n",
            "loss: 0.000276  [38400/60000]\n",
            "loss: 0.000336  [44800/60000]\n",
            "loss: 0.000798  [51200/60000]\n",
            "loss: 0.001355  [57600/60000]\n",
            "Test Error: \n",
            " Accuracy: 97.6%, Avg loss: 0.091704 \n",
            "\n",
            "Epoch 3\n",
            "-------------------------------\n",
            "loss: 0.002183  [    0/60000]\n",
            "loss: 0.001305  [ 6400/60000]\n",
            "loss: 0.000879  [12800/60000]\n",
            "loss: 0.000860  [19200/60000]\n",
            "loss: 0.000513  [25600/60000]\n",
            "loss: 0.001441  [32000/60000]\n",
            "loss: 0.000885  [38400/60000]\n",
            "loss: 0.001062  [44800/60000]\n",
            "loss: 0.001434  [51200/60000]\n",
            "loss: 0.001432  [57600/60000]\n",
            "Test Error: \n",
            " Accuracy: 97.6%, Avg loss: 0.091460 \n",
            "\n",
            "Epoch 4\n",
            "-------------------------------\n",
            "loss: 0.001342  [    0/60000]\n",
            "loss: 0.000514  [ 6400/60000]\n",
            "loss: 0.001639  [12800/60000]\n",
            "loss: 0.000925  [19200/60000]\n",
            "loss: 0.002043  [25600/60000]\n",
            "loss: 0.001511  [32000/60000]\n",
            "loss: 0.001758  [38400/60000]\n",
            "loss: 0.001604  [44800/60000]\n",
            "loss: 0.001342  [51200/60000]\n",
            "loss: 0.001459  [57600/60000]\n",
            "Test Error: \n",
            " Accuracy: 97.6%, Avg loss: 0.091744 \n",
            "\n",
            "Epoch 5\n",
            "-------------------------------\n",
            "loss: 0.002124  [    0/60000]\n",
            "loss: 0.000747  [ 6400/60000]\n",
            "loss: 0.002310  [12800/60000]\n",
            "loss: 0.000879  [19200/60000]\n",
            "loss: 0.002869  [25600/60000]\n",
            "loss: 0.000762  [32000/60000]\n",
            "loss: 0.002132  [38400/60000]\n",
            "loss: 0.001753  [44800/60000]\n",
            "loss: 0.001196  [51200/60000]\n",
            "loss: 0.002715  [57600/60000]\n",
            "Test Error: \n",
            " Accuracy: 97.6%, Avg loss: 0.092036 \n",
            "\n",
            "Done!\n"
          ]
        }
      ]
    },
    {
      "cell_type": "code",
      "source": [
        "X = test_data[0,:].view(1,28,28)\n",
        "pred_probab = model(X)\n",
        "y_pred = pred_probab.argmax(1)\n",
        "print(f\"Predicted class: {y_pred.item()}\")\n",
        "print(f\"Actual class: {test_labels[0]}\")"
      ],
      "metadata": {
        "colab": {
          "base_uri": "https://localhost:8080/"
        },
        "id": "h2Bev9GHK_7V",
        "outputId": "0faf6ea2-ad55-487b-ba0d-e9a0a9373554"
      },
      "execution_count": 86,
      "outputs": [
        {
          "output_type": "stream",
          "name": "stdout",
          "text": [
            "Predicted class: 7\n",
            "Actual class: 7\n"
          ]
        }
      ]
    },
    {
      "cell_type": "code",
      "source": [
        "torch.save(model.state_dict(), 'model_weights.pth')"
      ],
      "metadata": {
        "id": "QBxzRBJeLREl"
      },
      "execution_count": 82,
      "outputs": []
    },
    {
      "cell_type": "code",
      "source": [
        "loaded_model = Net()\n",
        "loaded_model.load_state_dict(torch.load('model_weights.pth'))\n",
        "loaded_model.eval()"
      ],
      "metadata": {
        "colab": {
          "base_uri": "https://localhost:8080/"
        },
        "id": "gq_kHii2NyDE",
        "outputId": "a815f0dd-6dec-4867-a916-2469e38214da"
      },
      "execution_count": 83,
      "outputs": [
        {
          "output_type": "execute_result",
          "data": {
            "text/plain": [
              "Net(\n",
              "  (flatten): Flatten(start_dim=1, end_dim=-1)\n",
              "  (linear_relu_stack): Sequential(\n",
              "    (0): Linear(in_features=784, out_features=512, bias=True)\n",
              "    (1): ReLU()\n",
              "    (2): Linear(in_features=512, out_features=254, bias=True)\n",
              "    (3): ReLU()\n",
              "    (4): Linear(in_features=254, out_features=150, bias=True)\n",
              "    (5): ReLU()\n",
              "    (6): Linear(in_features=150, out_features=10, bias=True)\n",
              "  )\n",
              ")"
            ]
          },
          "metadata": {},
          "execution_count": 83
        }
      ]
    },
    {
      "cell_type": "code",
      "source": [
        "print(\"Test Accuracy of loaded model:\")\n",
        "test_loop(test_dataloader, model, loss_fn)\n",
        "count=0\n",
        "for i in range(10):\n",
        "  X = test_data[i,:].view(1,28,28)\n",
        "  pred_probab = loaded_model(X)\n",
        "  y_pred = pred_probab.argmax(1)\n",
        "  print(f\"Predicted class: {y_pred.item()}\")\n",
        "  print(f\"Actual class: {test_labels[i]}\\n\")\n"
      ],
      "metadata": {
        "colab": {
          "base_uri": "https://localhost:8080/"
        },
        "id": "qBKyn1a0N6AP",
        "outputId": "38edf56b-42e6-4559-abef-509577d9bf05"
      },
      "execution_count": 95,
      "outputs": [
        {
          "output_type": "stream",
          "name": "stdout",
          "text": [
            "Test Accuracy of loaded model:\n",
            "Test Error: \n",
            " Accuracy: 97.6%, Avg loss: 0.092036 \n",
            "\n",
            "Predicted class: 7\n",
            "Actual class: 7\n",
            "\n",
            "Predicted class: 2\n",
            "Actual class: 2\n",
            "\n",
            "Predicted class: 1\n",
            "Actual class: 1\n",
            "\n",
            "Predicted class: 0\n",
            "Actual class: 0\n",
            "\n",
            "Predicted class: 4\n",
            "Actual class: 4\n",
            "\n",
            "Predicted class: 1\n",
            "Actual class: 1\n",
            "\n",
            "Predicted class: 4\n",
            "Actual class: 4\n",
            "\n",
            "Predicted class: 9\n",
            "Actual class: 9\n",
            "\n",
            "Predicted class: 6\n",
            "Actual class: 5\n",
            "\n",
            "Predicted class: 9\n",
            "Actual class: 9\n",
            "\n"
          ]
        }
      ]
    }
  ]
}