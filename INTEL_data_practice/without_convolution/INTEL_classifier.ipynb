{
  "nbformat": 4,
  "nbformat_minor": 0,
  "metadata": {
    "colab": {
      "provenance": []
    },
    "kernelspec": {
      "name": "python3",
      "display_name": "Python 3"
    },
    "language_info": {
      "name": "python"
    }
  },
  "cells": [
    {
      "cell_type": "code",
      "execution_count": 1,
      "metadata": {
        "id": "yGzVUXfASTwr",
        "colab": {
          "base_uri": "https://localhost:8080/"
        },
        "outputId": "e018e4a3-ddc8-47f9-f438-3d5b4293535a"
      },
      "outputs": [
        {
          "output_type": "stream",
          "name": "stdout",
          "text": [
            "Number of training samples: 13323\n",
            "Number of testing samples: 2990\n",
            "Class-to-index mapping: {'buildings': 0, 'forest': 1, 'glacier': 2, 'mountain': 3, 'sea': 4, 'street': 5}\n",
            "Batch of images has shape: torch.Size([64, 3, 28, 28])\n",
            "Batch of labels: tensor([1, 1, 3, 0, 3, 2, 1, 3, 4, 1, 5, 5, 3, 3, 4, 0, 2, 5, 4, 2, 2, 2, 3, 0,\n",
            "        1, 4, 5, 2, 0, 3, 2, 5, 5, 0, 5, 3, 1, 5, 4, 5, 3, 3, 1, 3, 1, 5, 5, 2,\n",
            "        3, 0, 1, 4, 5, 1, 3, 3, 2, 1, 1, 2, 0, 2, 0, 0])\n"
          ]
        }
      ],
      "source": [
        "import os\n",
        "import torch\n",
        "from torchvision import datasets, transforms\n",
        "from torch.utils.data import DataLoader\n",
        "\n",
        "# Define the root directories for training and testing data\n",
        "train_dir = '/content/drive/MyDrive/INTEL_data_practice/DATA/seg_train/seg_train'\n",
        "test_dir = '/content/drive/MyDrive/INTEL_data_practice/DATA/seg_test/seg_test'\n",
        "\n",
        "# Define transformations (resize, convert to tensor, normalize)\n",
        "transform = transforms.Compose([\n",
        "    transforms.Resize((28, 28)),  # Resize images to 28x28\n",
        "    transforms.ToTensor(),        # Convert images to PyTorch tensors\n",
        "    transforms.Normalize((0.5,), (0.5,))  # Normalize images (mean, std)\n",
        "])\n",
        "\n",
        "# Create datasets using ImageFolder\n",
        "train_dataset = datasets.ImageFolder(root=train_dir, transform=transform)\n",
        "test_dataset = datasets.ImageFolder(root=test_dir, transform=transform)\n",
        "\n",
        "# Create DataLoaders\n",
        "batch_size = 64\n",
        "train_dataloader = DataLoader(train_dataset, batch_size=batch_size, shuffle=True)\n",
        "test_dataloader = DataLoader(test_dataset, batch_size=batch_size, shuffle=False)\n",
        "\n",
        "# Check if datasets are loaded correctly\n",
        "print(f\"Number of training samples: {len(train_dataset)}\")\n",
        "print(f\"Number of testing samples: {len(test_dataset)}\")\n",
        "print(f\"Class-to-index mapping: {train_dataset.class_to_idx}\")\n",
        "\n",
        "# Example of how to get a batch of data\n",
        "data_iter = iter(train_dataloader)\n",
        "images, labels = next(data_iter)\n",
        "\n",
        "\n",
        "print(f\"Batch of images has shape: {images.shape}\")\n",
        "print(f\"Batch of labels: {labels}\")\n"
      ]
    },
    {
      "cell_type": "code",
      "source": [
        "print(f\"Batch of images has shape: {images.shape}\")\n",
        "print(f\"Batch of labels has shape: {labels.shape}\")\n",
        "idx_to_class = {v: k for k, v in train_dataset.class_to_idx.items()}\n"
      ],
      "metadata": {
        "colab": {
          "base_uri": "https://localhost:8080/"
        },
        "id": "n0v7ZlxRnZzc",
        "outputId": "c027b815-db23-4307-ec1b-70a80e45a682"
      },
      "execution_count": 2,
      "outputs": [
        {
          "output_type": "stream",
          "name": "stdout",
          "text": [
            "Batch of images has shape: torch.Size([64, 3, 28, 28])\n",
            "Batch of labels has shape: torch.Size([64])\n"
          ]
        }
      ]
    },
    {
      "cell_type": "code",
      "source": [
        "import matplotlib.pyplot as plt\n",
        "import numpy as np\n",
        "\n",
        "for i in range(5):\n",
        "    plt.subplot(1, 5, i+1)\n",
        "    plt.imshow(images[i,0,:,:])\n",
        "    plt.title(idx_to_class[labels[i].item()])\n",
        "    plt.axis('off')\n",
        "plt.show()\n",
        "\n",
        "for i in range(5):\n",
        "    plt.subplot(1, 5, i+1)\n",
        "    plt.imshow(images[i,1,:,:])\n",
        "    plt.title(idx_to_class[labels[i].item()])\n",
        "    plt.axis('off')\n",
        "plt.show()\n",
        "\n",
        "for i in range(5):\n",
        "    plt.subplot(1, 5, i+1)\n",
        "    plt.imshow(images[i,2,:,:])\n",
        "    plt.title(idx_to_class[labels[i].item()])\n",
        "    plt.axis('off')\n",
        "plt.show()\n"
      ],
      "metadata": {
        "colab": {
          "base_uri": "https://localhost:8080/",
          "height": 398
        },
        "id": "242hdka-p_Mx",
        "outputId": "03900e43-171b-4749-d9e4-2579fb16aa25"
      },
      "execution_count": 3,
      "outputs": [
        {
          "output_type": "display_data",
          "data": {
            "text/plain": [
              "<Figure size 640x480 with 5 Axes>"
            ],
            "image/png": "[encoded data removed]"
          },
          "metadata": {}
        },
        {
          "output_type": "display_data",
          "data": {
            "text/plain": [
              "<Figure size 640x480 with 5 Axes>"
            ],
            "image/png": "[encoded data removed]"
          },
          "metadata": {}
        },
        {
          "output_type": "display_data",
          "data": {
            "text/plain": [
              "<Figure size 640x480 with 5 Axes>"
            ],
            "image/png": "[encoded data removed]"
          },
          "metadata": {}
        }
      ]
    },
    {
      "cell_type": "code",
      "source": [
        "import matplotlib.pyplot as plt\n",
        "import numpy as np\n",
        "\n",
        "# Display the first 5 images with their labels using full RGB channels\n",
        "for i in range(5):\n",
        "    plt.subplot(1, 5, i+1)\n",
        "    # Combine channels into RGB format\n",
        "    img_rgb = images[i].permute(1, 2, 0).numpy()  # Convert to (height, width, channels)\n",
        "    plt.imshow(img_rgb)\n",
        "    plt.title(idx_to_class[labels[i].item()])\n",
        "    plt.axis('off')\n",
        "plt.show()\n"
      ],
      "metadata": {
        "colab": {
          "base_uri": "https://localhost:8080/",
          "height": 235
        },
        "id": "0jIalL6WvOoo",
        "outputId": "563e7cec-25d3-442e-c316-39f28ace6095"
      },
      "execution_count": 4,
      "outputs": [
        {
          "output_type": "stream",
          "name": "stderr",
          "text": [
            "WARNING:matplotlib.image:Clipping input data to the valid range for imshow with RGB data ([0..1] for floats or [0..255] for integers).\n",
            "WARNING:matplotlib.image:Clipping input data to the valid range for imshow with RGB data ([0..1] for floats or [0..255] for integers).\n",
            "WARNING:matplotlib.image:Clipping input data to the valid range for imshow with RGB data ([0..1] for floats or [0..255] for integers).\n",
            "WARNING:matplotlib.image:Clipping input data to the valid range for imshow with RGB data ([0..1] for floats or [0..255] for integers).\n",
            "WARNING:matplotlib.image:Clipping input data to the valid range for imshow with RGB data ([0..1] for floats or [0..255] for integers).\n"
          ]
        },
        {
          "output_type": "display_data",
          "data": {
            "text/plain": [
              "<Figure size 640x480 with 5 Axes>"
            ],
            "image/png": "[encoded data removed]"
          },
          "metadata": {}
        }
      ]
    },
    {
      "cell_type": "code",
      "source": [
        "images, labels = next(data_iter)"
      ],
      "metadata": {
        "id": "f2zgFy0IvVeq"
      },
      "execution_count": 5,
      "outputs": []
    },
    {
      "cell_type": "code",
      "source": [],
      "metadata": {
        "id": "aaLk914I0J2T"
      },
      "execution_count": 5,
      "outputs": []
    },
    {
      "cell_type": "code",
      "source": [
        "import torch\n",
        "import torch.nn as nn\n",
        "import torch.nn.functional as F"
      ],
      "metadata": {
        "id": "Xx_OJ84n_5KH"
      },
      "execution_count": 6,
      "outputs": []
    },
    {
      "cell_type": "code",
      "source": [
        "class Net(nn.Module):\n",
        "\n",
        "  def __init__(self):\n",
        "    super().__init__()\n",
        "    self.flatten = nn.Flatten()\n",
        "    self.linear_relu_stack = nn.Sequential(\n",
        "        nn.Linear(28*28, 512),\n",
        "        nn.ReLU(),\n",
        "        nn.Linear(512, 254),\n",
        "        nn.ReLU(),\n",
        "        nn.Linear(254, 150),\n",
        "        nn.ReLU(),\n",
        "        nn.Linear(150, 10),\n",
        "    )\n",
        "\n",
        "  def forward(self, x):\n",
        "    x = self.flatten(x)\n",
        "    logits = self.linear_relu_stack(x)\n",
        "    output = F.log_softmax(logits, dim=1)\n",
        "    return output\n"
      ],
      "metadata": {
        "id": "RAKqVwIoBKPr"
      },
      "execution_count": 7,
      "outputs": []
    },
    {
      "cell_type": "code",
      "source": [
        "loaded_model = Net()\n",
        "loaded_model.load_state_dict(torch.load('/content/drive/MyDrive/MNIST_practice/model_weights.pth'))\n",
        "loaded_model.eval()"
      ],
      "metadata": {
        "colab": {
          "base_uri": "https://localhost:8080/"
        },
        "id": "oEOBcw6wvbnN",
        "outputId": "57ca6370-65ea-4e60-94c9-03da0ce2e3c6"
      },
      "execution_count": 8,
      "outputs": [
        {
          "output_type": "execute_result",
          "data": {
            "text/plain": [
              "Net(\n",
              "  (flatten): Flatten(start_dim=1, end_dim=-1)\n",
              "  (linear_relu_stack): Sequential(\n",
              "    (0): Linear(in_features=784, out_features=512, bias=True)\n",
              "    (1): ReLU()\n",
              "    (2): Linear(in_features=512, out_features=254, bias=True)\n",
              "    (3): ReLU()\n",
              "    (4): Linear(in_features=254, out_features=150, bias=True)\n",
              "    (5): ReLU()\n",
              "    (6): Linear(in_features=150, out_features=10, bias=True)\n",
              "  )\n",
              ")"
            ]
          },
          "metadata": {},
          "execution_count": 8
        }
      ]
    },
    {
      "cell_type": "code",
      "source": [],
      "metadata": {
        "id": "1C4XviTX2JPi"
      },
      "execution_count": 8,
      "outputs": []
    },
    {
      "cell_type": "code",
      "source": [
        "X = images[0,0,:,:]\n",
        "print(X)\n",
        "X = images[0, 0, :, :].view(1, 1, 28, 28).float()\n",
        "print(X)\n",
        "pred_probab = loaded_model(X)\n",
        "y_pred = pred_probab.argmax(1)\n",
        "print(f\"Predicted class: {y_pred.item()}\")\n",
        "plt.imshow(images[0,1,:,:])\n",
        "print(f\"Actual class: {idx_to_class[labels[0].item()]}\")"
      ],
      "metadata": {
        "colab": {
          "base_uri": "https://localhost:8080/",
          "height": 1000
        },
        "id": "P_qAFGjb0Q2R",
        "outputId": "3514599a-996e-419f-d978-e60eb25772b0"
      },
      "execution_count": 9,
      "outputs": [
        {
          "output_type": "stream",
          "name": "stdout",
          "text": [
            "tensor([[ 0.7961,  0.7098,  0.6078,  0.8118,  0.8745,  0.5373,  0.0510,  0.0745,\n",
            "          0.4588,  0.6314,  0.1451,  0.1608,  0.0824,  0.4118,  0.2078, -0.3255,\n",
            "         -0.4667, -0.4980, -0.2627, -0.3804, -0.9059, -0.9529, -0.8431, -0.5765,\n",
            "         -0.5608, -0.9294, -0.5451,  0.1765],\n",
            "        [ 0.4745,  0.5373,  0.4588,  0.6157,  0.6941,  0.5686,  0.0980,  0.2157,\n",
            "          0.4196,  0.6392,  0.8745,  0.8745,  0.7961,  0.4902, -0.0196, -0.5216,\n",
            "         -0.7255, -0.6549, -0.5843, -0.8431, -0.9216, -0.7098,  0.1843,  0.5373,\n",
            "          0.4588, -0.0118,  0.3490,  0.5373],\n",
            "        [ 0.3490,  0.2941,  0.2000,  0.4588,  0.5373,  0.6000,  0.5373,  0.5373,\n",
            "          0.7647,  0.8431,  0.9608,  0.9686,  0.8745,  0.7961,  0.7961,  0.2706,\n",
            "         -0.3176, -0.5137, -0.7333, -0.8667, -0.8667, -0.6863, -0.2157, -0.0118,\n",
            "          0.3176,  0.6706,  0.6784,  0.2471],\n",
            "        [ 0.1451, -0.0039,  0.0431,  0.1373,  0.3098,  0.5294,  0.5529,  0.6941,\n",
            "          0.8980,  0.9373,  0.8980,  0.9216,  0.6784,  0.4431,  0.6000,  0.7725,\n",
            "          0.7412,  0.0980, -0.4510, -0.6157, -0.7490, -0.8118, -0.9137, -0.8824,\n",
            "         -0.4275,  0.3804,  0.2784, -0.1216],\n",
            "        [ 0.0902,  0.0510,  0.1686,  0.0275,  0.1059,  0.2941,  0.4118,  0.5216,\n",
            "          0.7725,  0.8196,  0.7647,  0.7647,  0.4510,  0.1765,  0.1373,  0.5843,\n",
            "          0.8824,  0.2235,  0.0667,  0.1529, -0.2941, -0.4824, -0.7176, -0.8902,\n",
            "         -0.9059, -0.0118,  0.5059, -0.1451],\n",
            "        [ 0.1373,  0.3020,  0.4902,  0.5686,  0.5137,  0.4588,  0.4824,  0.6549,\n",
            "          0.8431,  0.9294,  0.9216,  0.7882,  0.4510,  0.1765,  0.1843,  0.5529,\n",
            "          0.7647,  0.7804,  0.5529,  0.7412,  0.5059,  0.2000, -0.0431, -0.3412,\n",
            "         -0.6157, -0.0431,  0.7882,  0.4353],\n",
            "        [ 0.2000,  0.3961,  0.6000,  0.6706,  0.6314,  0.7725,  0.8039,  0.7804,\n",
            "          0.8745,  0.9608,  0.9373,  0.8824,  0.7098,  0.6706,  0.7725,  0.7569,\n",
            "          0.6941,  0.8275,  0.6549,  0.0980, -0.0667, -0.1294, -0.2157, -0.3020,\n",
            "         -0.3490, -0.1373,  0.1451,  0.0118],\n",
            "        [ 0.1843,  0.2157,  0.2314,  0.2549,  0.2392,  0.3412,  0.4431,  0.5373,\n",
            "          0.6235,  0.5608,  0.6471,  0.8118,  0.6784,  0.6549,  0.6235,  0.6078,\n",
            "          0.5529,  0.6314,  0.6549,  0.1843, -0.1137, -0.1608, -0.1765, -0.2000,\n",
            "         -0.1373, -0.1843, -0.3098, -0.4824],\n",
            "        [ 0.2000,  0.2235,  0.2471,  0.2549,  0.2706,  0.2863,  0.3020,  0.3176,\n",
            "          0.2549,  0.2000,  0.2314,  0.4196,  0.4902,  0.2627,  0.4353,  0.5294,\n",
            "          0.4353,  0.3961,  0.4118,  0.2784,  0.1608,  0.4039,  0.4510,  0.3882,\n",
            "          0.7020,  0.5529,  0.2471,  0.0431],\n",
            "        [ 0.2471,  0.2706,  0.3020,  0.3255,  0.3725,  0.4039,  0.3882,  0.3961,\n",
            "          0.3961,  0.3961,  0.4196,  0.4510,  0.5059,  0.5137,  0.5608,  0.5922,\n",
            "          0.5216,  0.5529,  0.6549,  0.4980,  0.5765,  0.7882,  0.5765,  0.6706,\n",
            "          0.6392,  0.4588,  0.3804,  0.3333],\n",
            "        [ 0.4039,  0.4510,  0.4980,  0.5451,  0.5922,  0.6157,  0.6157,  0.6314,\n",
            "          0.6392,  0.6314,  0.6392,  0.6392,  0.6392,  0.6314,  0.6235,  0.5922,\n",
            "          0.5686,  0.5765,  0.5922,  0.5686,  0.6000,  0.6235,  0.5922,  0.6000,\n",
            "          0.3255,  0.1765,  0.5608,  0.5373],\n",
            "        [ 0.4824,  0.5137,  0.5373,  0.5529,  0.5765,  0.6000,  0.6078,  0.6157,\n",
            "          0.6235,  0.6314,  0.6471,  0.6549,  0.6627,  0.6706,  0.6863,  0.6941,\n",
            "          0.6941,  0.6941,  0.7098,  0.7098,  0.6941,  0.6941,  0.6863,  0.6784,\n",
            "         -0.1373, -0.3490,  0.5765,  0.5373],\n",
            "        [ 0.5765,  0.6078,  0.6471,  0.6941,  0.7255,  0.7412,  0.7647,  0.7882,\n",
            "          0.7882,  0.8039,  0.8275,  0.8275,  0.8118,  0.8118,  0.8196,  0.8118,\n",
            "          0.8039,  0.7961,  0.7804,  0.7725,  0.7333,  0.7255,  0.7255,  0.5294,\n",
            "         -0.2863, -0.4353,  0.4353,  0.5686],\n",
            "        [ 0.6471,  0.6941,  0.7255,  0.7647,  0.7804,  0.7882,  0.7961,  0.7961,\n",
            "          0.8039,  0.8039,  0.7961,  0.7804,  0.7647,  0.7412,  0.7098,  0.6706,\n",
            "          0.6549,  0.5843,  0.4667,  0.3333,  0.2549,  0.2549,  0.2314, -0.3647,\n",
            "         -0.9608, -0.9608, -0.5059, -0.1608],\n",
            "        [ 0.2941,  0.4039,  0.4588,  0.4824,  0.4745,  0.4824,  0.5059,  0.5059,\n",
            "          0.5451,  0.5843,  0.6000,  0.5765,  0.5137,  0.4588,  0.3961,  0.3490,\n",
            "          0.2863,  0.2235,  0.0824, -0.0980, -0.1608, -0.1608, -0.2000, -0.5294,\n",
            "         -0.9451, -0.9843, -0.7961, -0.3333],\n",
            "        [ 0.6157,  0.6314,  0.6314,  0.6314,  0.6784,  0.6941,  0.6627,  0.6863,\n",
            "          0.6941,  0.7098,  0.7176,  0.7255,  0.7176,  0.6784,  0.6471,  0.6627,\n",
            "          0.6392,  0.6392,  0.5608,  0.4588,  0.4667,  0.4824,  0.4431, -0.2314,\n",
            "         -0.9529, -0.9451, -0.2863,  0.3020],\n",
            "        [ 0.5059,  0.5608,  0.5922,  0.5922,  0.6157,  0.6392,  0.6314,  0.6471,\n",
            "          0.6784,  0.6863,  0.6941,  0.6863,  0.6235,  0.5765,  0.5059,  0.4588,\n",
            "          0.4667,  0.4745,  0.4431,  0.3882,  0.2941,  0.1608,  0.1686, -0.1765,\n",
            "         -0.9451, -0.8118,  0.2000,  0.3412],\n",
            "        [ 0.4353,  0.4431,  0.4745,  0.5294,  0.5216,  0.5451,  0.5686,  0.5922,\n",
            "          0.5765,  0.6157,  0.6078,  0.5765,  0.5216,  0.4824,  0.4431,  0.3725,\n",
            "          0.3333,  0.3412,  0.3176,  0.2314,  0.1216,  0.1451,  0.1686, -0.1216,\n",
            "         -0.9294, -0.4745,  0.0039, -0.0510],\n",
            "        [ 0.3647,  0.3882,  0.4824,  0.5765,  0.5765,  0.4902,  0.5529,  0.6078,\n",
            "          0.5922,  0.5922,  0.6157,  0.6235,  0.4353,  0.1686,  0.2078,  0.2784,\n",
            "          0.3098,  0.3176,  0.2157,  0.0667,  0.0275,  0.0039,  0.0196, -0.1137,\n",
            "         -0.7804, -0.1529, -0.0039, -0.0196],\n",
            "        [ 0.4039,  0.4510,  0.4667,  0.2471,  0.2000,  0.1608,  0.2863,  0.3098,\n",
            "          0.4980,  0.5294,  0.5608,  0.5137, -0.0980, -0.7725, -0.4588, -0.0196,\n",
            "          0.0745,  0.2627, -0.2392, -0.7569, -0.3333,  0.0824,  0.2627,  0.1294,\n",
            "         -0.6706, -0.3804, -0.2627, -0.2157],\n",
            "        [ 0.2784,  0.4118,  0.1922, -0.7569, -0.8667, -0.8980, -0.7490, -0.6078,\n",
            "         -0.0980,  0.1922,  0.1216,  0.1294, -0.1608, -0.5843, -0.7333, -0.6235,\n",
            "         -0.6549, -0.4824, -0.6314, -0.8824, -0.8431, -0.6157, -0.3176, -0.6392,\n",
            "         -0.7961, -0.8902, -0.8431, -0.8980],\n",
            "        [-0.1529, -0.1216, -0.3020, -0.8275, -0.8353, -0.8275, -0.7882, -0.7961,\n",
            "         -0.7725, -0.8118, -0.8196, -0.6314,  0.0275, -0.1686, -0.7020, -0.6706,\n",
            "         -0.6392, -0.8196, -0.8588, -0.8588, -0.7098, -0.5843, -0.4824, -0.5373,\n",
            "         -0.7961, -0.9608, -0.9451, -0.9529],\n",
            "        [-0.5686, -0.2863, -0.2235, -0.4039, -0.4667, -0.5137, -0.4039, -0.3569,\n",
            "         -0.4353, -0.4431, -0.4824, -0.5216, -0.3490, -0.6235, -0.7569, -0.6549,\n",
            "         -0.4980, -0.7412, -0.7412, -0.5608, -0.4745, -0.2157, -0.0431, -0.2078,\n",
            "         -0.5294, -0.7255, -0.7333, -0.5059],\n",
            "        [-0.6549, -0.3569, -0.2706, -0.2941, -0.4039, -0.3804, -0.2549, -0.2235,\n",
            "         -0.3725, -0.5216, -0.5373, -0.6078, -0.6392, -0.5765, -0.5373, -0.3647,\n",
            "         -0.2784, -0.4039, -0.3961, -0.5451, -0.6706, -0.3490,  0.0196, -0.3020,\n",
            "         -0.5765, -0.5608, -0.3412, -0.5765],\n",
            "        [-0.7647, -0.6314, -0.5059, -0.3882, -0.2706, -0.3647, -0.4588, -0.1451,\n",
            "         -0.1059,  0.0431, -0.0431, -0.4353, -0.2314, -0.2941, -0.3804, -0.3020,\n",
            "         -0.3647, -0.4510, -0.3490,  0.0275,  0.1137, -0.0824, -0.4667, -0.6549,\n",
            "         -0.7255, -0.7333, -0.7725, -0.9373],\n",
            "        [-0.9373, -0.9608, -0.6863, -0.6235, -0.4902, -0.2941, -0.2627, -0.0980,\n",
            "         -0.0196,  0.0588, -0.0039, -0.0510, -0.1843, -0.2157, -0.1608, -0.2627,\n",
            "         -0.2314, -0.2471, -0.4275, -0.1216, -0.0118, -0.1922, -0.3647, -0.2471,\n",
            "         -0.2863, -0.4039, -0.7020, -0.7725],\n",
            "        [-0.6784, -0.8588, -0.6863, -0.6549, -0.3804, -0.0588, -0.1529, -0.3333,\n",
            "         -0.4510, -0.4275, -0.4039, -0.2863, -0.3412, -0.2863, -0.4980, -0.6863,\n",
            "         -0.5529, -0.2941, -0.3725, -0.3569, -0.6000, -0.7333, -0.7020, -0.7020,\n",
            "         -0.6078, -0.3725, -0.4745, -0.5216],\n",
            "        [-0.7255, -0.5922, -0.5608, -0.6157, -0.5686, -0.4745, -0.4118, -0.4510,\n",
            "         -0.4980,  0.0039,  0.2549,  0.1216, -0.4039, -0.4353, -0.6000, -0.6314,\n",
            "         -0.3569, -0.2235, -0.2078, -0.6078, -0.9529, -0.9451, -0.4745, -0.6549,\n",
            "         -0.5137, -0.3647, -0.6157, -0.6941]])\n",
            "tensor([[[[ 0.7961,  0.7098,  0.6078,  0.8118,  0.8745,  0.5373,  0.0510,\n",
            "            0.0745,  0.4588,  0.6314,  0.1451,  0.1608,  0.0824,  0.4118,\n",
            "            0.2078, -0.3255, -0.4667, -0.4980, -0.2627, -0.3804, -0.9059,\n",
            "           -0.9529, -0.8431, -0.5765, -0.5608, -0.9294, -0.5451,  0.1765],\n",
            "          [ 0.4745,  0.5373,  0.4588,  0.6157,  0.6941,  0.5686,  0.0980,\n",
            "            0.2157,  0.4196,  0.6392,  0.8745,  0.8745,  0.7961,  0.4902,\n",
            "           -0.0196, -0.5216, -0.7255, -0.6549, -0.5843, -0.8431, -0.9216,\n",
            "           -0.7098,  0.1843,  0.5373,  0.4588, -0.0118,  0.3490,  0.5373],\n",
            "          [ 0.3490,  0.2941,  0.2000,  0.4588,  0.5373,  0.6000,  0.5373,\n",
            "            0.5373,  0.7647,  0.8431,  0.9608,  0.9686,  0.8745,  0.7961,\n",
            "            0.7961,  0.2706, -0.3176, -0.5137, -0.7333, -0.8667, -0.8667,\n",
            "           -0.6863, -0.2157, -0.0118,  0.3176,  0.6706,  0.6784,  0.2471],\n",
            "          [ 0.1451, -0.0039,  0.0431,  0.1373,  0.3098,  0.5294,  0.5529,\n",
            "            0.6941,  0.8980,  0.9373,  0.8980,  0.9216,  0.6784,  0.4431,\n",
            "            0.6000,  0.7725,  0.7412,  0.0980, -0.4510, -0.6157, -0.7490,\n",
            "           -0.8118, -0.9137, -0.8824, -0.4275,  0.3804,  0.2784, -0.1216],\n",
            "          [ 0.0902,  0.0510,  0.1686,  0.0275,  0.1059,  0.2941,  0.4118,\n",
            "            0.5216,  0.7725,  0.8196,  0.7647,  0.7647,  0.4510,  0.1765,\n",
            "            0.1373,  0.5843,  0.8824,  0.2235,  0.0667,  0.1529, -0.2941,\n",
            "           -0.4824, -0.7176, -0.8902, -0.9059, -0.0118,  0.5059, -0.1451],\n",
            "          [ 0.1373,  0.3020,  0.4902,  0.5686,  0.5137,  0.4588,  0.4824,\n",
            "            0.6549,  0.8431,  0.9294,  0.9216,  0.7882,  0.4510,  0.1765,\n",
            "            0.1843,  0.5529,  0.7647,  0.7804,  0.5529,  0.7412,  0.5059,\n",
            "            0.2000, -0.0431, -0.3412, -0.6157, -0.0431,  0.7882,  0.4353],\n",
            "          [ 0.2000,  0.3961,  0.6000,  0.6706,  0.6314,  0.7725,  0.8039,\n",
            "            0.7804,  0.8745,  0.9608,  0.9373,  0.8824,  0.7098,  0.6706,\n",
            "            0.7725,  0.7569,  0.6941,  0.8275,  0.6549,  0.0980, -0.0667,\n",
            "           -0.1294, -0.2157, -0.3020, -0.3490, -0.1373,  0.1451,  0.0118],\n",
            "          [ 0.1843,  0.2157,  0.2314,  0.2549,  0.2392,  0.3412,  0.4431,\n",
            "            0.5373,  0.6235,  0.5608,  0.6471,  0.8118,  0.6784,  0.6549,\n",
            "            0.6235,  0.6078,  0.5529,  0.6314,  0.6549,  0.1843, -0.1137,\n",
            "           -0.1608, -0.1765, -0.2000, -0.1373, -0.1843, -0.3098, -0.4824],\n",
            "          [ 0.2000,  0.2235,  0.2471,  0.2549,  0.2706,  0.2863,  0.3020,\n",
            "            0.3176,  0.2549,  0.2000,  0.2314,  0.4196,  0.4902,  0.2627,\n",
            "            0.4353,  0.5294,  0.4353,  0.3961,  0.4118,  0.2784,  0.1608,\n",
            "            0.4039,  0.4510,  0.3882,  0.7020,  0.5529,  0.2471,  0.0431],\n",
            "          [ 0.2471,  0.2706,  0.3020,  0.3255,  0.3725,  0.4039,  0.3882,\n",
            "            0.3961,  0.3961,  0.3961,  0.4196,  0.4510,  0.5059,  0.5137,\n",
            "            0.5608,  0.5922,  0.5216,  0.5529,  0.6549,  0.4980,  0.5765,\n",
            "            0.7882,  0.5765,  0.6706,  0.6392,  0.4588,  0.3804,  0.3333],\n",
            "          [ 0.4039,  0.4510,  0.4980,  0.5451,  0.5922,  0.6157,  0.6157,\n",
            "            0.6314,  0.6392,  0.6314,  0.6392,  0.6392,  0.6392,  0.6314,\n",
            "            0.6235,  0.5922,  0.5686,  0.5765,  0.5922,  0.5686,  0.6000,\n",
            "            0.6235,  0.5922,  0.6000,  0.3255,  0.1765,  0.5608,  0.5373],\n",
            "          [ 0.4824,  0.5137,  0.5373,  0.5529,  0.5765,  0.6000,  0.6078,\n",
            "            0.6157,  0.6235,  0.6314,  0.6471,  0.6549,  0.6627,  0.6706,\n",
            "            0.6863,  0.6941,  0.6941,  0.6941,  0.7098,  0.7098,  0.6941,\n",
            "            0.6941,  0.6863,  0.6784, -0.1373, -0.3490,  0.5765,  0.5373],\n",
            "          [ 0.5765,  0.6078,  0.6471,  0.6941,  0.7255,  0.7412,  0.7647,\n",
            "            0.7882,  0.7882,  0.8039,  0.8275,  0.8275,  0.8118,  0.8118,\n",
            "            0.8196,  0.8118,  0.8039,  0.7961,  0.7804,  0.7725,  0.7333,\n",
            "            0.7255,  0.7255,  0.5294, -0.2863, -0.4353,  0.4353,  0.5686],\n",
            "          [ 0.6471,  0.6941,  0.7255,  0.7647,  0.7804,  0.7882,  0.7961,\n",
            "            0.7961,  0.8039,  0.8039,  0.7961,  0.7804,  0.7647,  0.7412,\n",
            "            0.7098,  0.6706,  0.6549,  0.5843,  0.4667,  0.3333,  0.2549,\n",
            "            0.2549,  0.2314, -0.3647, -0.9608, -0.9608, -0.5059, -0.1608],\n",
            "          [ 0.2941,  0.4039,  0.4588,  0.4824,  0.4745,  0.4824,  0.5059,\n",
            "            0.5059,  0.5451,  0.5843,  0.6000,  0.5765,  0.5137,  0.4588,\n",
            "            0.3961,  0.3490,  0.2863,  0.2235,  0.0824, -0.0980, -0.1608,\n",
            "           -0.1608, -0.2000, -0.5294, -0.9451, -0.9843, -0.7961, -0.3333],\n",
            "          [ 0.6157,  0.6314,  0.6314,  0.6314,  0.6784,  0.6941,  0.6627,\n",
            "            0.6863,  0.6941,  0.7098,  0.7176,  0.7255,  0.7176,  0.6784,\n",
            "            0.6471,  0.6627,  0.6392,  0.6392,  0.5608,  0.4588,  0.4667,\n",
            "            0.4824,  0.4431, -0.2314, -0.9529, -0.9451, -0.2863,  0.3020],\n",
            "          [ 0.5059,  0.5608,  0.5922,  0.5922,  0.6157,  0.6392,  0.6314,\n",
            "            0.6471,  0.6784,  0.6863,  0.6941,  0.6863,  0.6235,  0.5765,\n",
            "            0.5059,  0.4588,  0.4667,  0.4745,  0.4431,  0.3882,  0.2941,\n",
            "            0.1608,  0.1686, -0.1765, -0.9451, -0.8118,  0.2000,  0.3412],\n",
            "          [ 0.4353,  0.4431,  0.4745,  0.5294,  0.5216,  0.5451,  0.5686,\n",
            "            0.5922,  0.5765,  0.6157,  0.6078,  0.5765,  0.5216,  0.4824,\n",
            "            0.4431,  0.3725,  0.3333,  0.3412,  0.3176,  0.2314,  0.1216,\n",
            "            0.1451,  0.1686, -0.1216, -0.9294, -0.4745,  0.0039, -0.0510],\n",
            "          [ 0.3647,  0.3882,  0.4824,  0.5765,  0.5765,  0.4902,  0.5529,\n",
            "            0.6078,  0.5922,  0.5922,  0.6157,  0.6235,  0.4353,  0.1686,\n",
            "            0.2078,  0.2784,  0.3098,  0.3176,  0.2157,  0.0667,  0.0275,\n",
            "            0.0039,  0.0196, -0.1137, -0.7804, -0.1529, -0.0039, -0.0196],\n",
            "          [ 0.4039,  0.4510,  0.4667,  0.2471,  0.2000,  0.1608,  0.2863,\n",
            "            0.3098,  0.4980,  0.5294,  0.5608,  0.5137, -0.0980, -0.7725,\n",
            "           -0.4588, -0.0196,  0.0745,  0.2627, -0.2392, -0.7569, -0.3333,\n",
            "            0.0824,  0.2627,  0.1294, -0.6706, -0.3804, -0.2627, -0.2157],\n",
            "          [ 0.2784,  0.4118,  0.1922, -0.7569, -0.8667, -0.8980, -0.7490,\n",
            "           -0.6078, -0.0980,  0.1922,  0.1216,  0.1294, -0.1608, -0.5843,\n",
            "           -0.7333, -0.6235, -0.6549, -0.4824, -0.6314, -0.8824, -0.8431,\n",
            "           -0.6157, -0.3176, -0.6392, -0.7961, -0.8902, -0.8431, -0.8980],\n",
            "          [-0.1529, -0.1216, -0.3020, -0.8275, -0.8353, -0.8275, -0.7882,\n",
            "           -0.7961, -0.7725, -0.8118, -0.8196, -0.6314,  0.0275, -0.1686,\n",
            "           -0.7020, -0.6706, -0.6392, -0.8196, -0.8588, -0.8588, -0.7098,\n",
            "           -0.5843, -0.4824, -0.5373, -0.7961, -0.9608, -0.9451, -0.9529],\n",
            "          [-0.5686, -0.2863, -0.2235, -0.4039, -0.4667, -0.5137, -0.4039,\n",
            "           -0.3569, -0.4353, -0.4431, -0.4824, -0.5216, -0.3490, -0.6235,\n",
            "           -0.7569, -0.6549, -0.4980, -0.7412, -0.7412, -0.5608, -0.4745,\n",
            "           -0.2157, -0.0431, -0.2078, -0.5294, -0.7255, -0.7333, -0.5059],\n",
            "          [-0.6549, -0.3569, -0.2706, -0.2941, -0.4039, -0.3804, -0.2549,\n",
            "           -0.2235, -0.3725, -0.5216, -0.5373, -0.6078, -0.6392, -0.5765,\n",
            "           -0.5373, -0.3647, -0.2784, -0.4039, -0.3961, -0.5451, -0.6706,\n",
            "           -0.3490,  0.0196, -0.3020, -0.5765, -0.5608, -0.3412, -0.5765],\n",
            "          [-0.7647, -0.6314, -0.5059, -0.3882, -0.2706, -0.3647, -0.4588,\n",
            "           -0.1451, -0.1059,  0.0431, -0.0431, -0.4353, -0.2314, -0.2941,\n",
            "           -0.3804, -0.3020, -0.3647, -0.4510, -0.3490,  0.0275,  0.1137,\n",
            "           -0.0824, -0.4667, -0.6549, -0.7255, -0.7333, -0.7725, -0.9373],\n",
            "          [-0.9373, -0.9608, -0.6863, -0.6235, -0.4902, -0.2941, -0.2627,\n",
            "           -0.0980, -0.0196,  0.0588, -0.0039, -0.0510, -0.1843, -0.2157,\n",
            "           -0.1608, -0.2627, -0.2314, -0.2471, -0.4275, -0.1216, -0.0118,\n",
            "           -0.1922, -0.3647, -0.2471, -0.2863, -0.4039, -0.7020, -0.7725],\n",
            "          [-0.6784, -0.8588, -0.6863, -0.6549, -0.3804, -0.0588, -0.1529,\n",
            "           -0.3333, -0.4510, -0.4275, -0.4039, -0.2863, -0.3412, -0.2863,\n",
            "           -0.4980, -0.6863, -0.5529, -0.2941, -0.3725, -0.3569, -0.6000,\n",
            "           -0.7333, -0.7020, -0.7020, -0.6078, -0.3725, -0.4745, -0.5216],\n",
            "          [-0.7255, -0.5922, -0.5608, -0.6157, -0.5686, -0.4745, -0.4118,\n",
            "           -0.4510, -0.4980,  0.0039,  0.2549,  0.1216, -0.4039, -0.4353,\n",
            "           -0.6000, -0.6314, -0.3569, -0.2235, -0.2078, -0.6078, -0.9529,\n",
            "           -0.9451, -0.4745, -0.6549, -0.5137, -0.3647, -0.6157, -0.6941]]]])\n",
            "Predicted class: 7\n",
            "Actual class: sea\n"
          ]
        },
        {
          "output_type": "display_data",
          "data": {
            "text/plain": [
              "<Figure size 640x480 with 1 Axes>"
            ],
            "image/png": "[encoded data removed]"
          },
          "metadata": {}
        }
      ]
    },
    {
      "cell_type": "code",
      "source": [
        "class Intel_Net(nn.Module):\n",
        "\n",
        "  def __init__(self):\n",
        "    super().__init__()\n",
        "    self.flatten = nn.Flatten()\n",
        "    self.linear_relu_stack = nn.Sequential(\n",
        "        nn.Linear(3*784, 784),\n",
        "        nn.ReLU(),\n",
        "        nn.Linear(784, 512),\n",
        "        nn.ReLU(),\n",
        "        nn.Linear(512, 254),\n",
        "        nn.ReLU(),\n",
        "        nn.Linear(254, 150),\n",
        "        nn.ReLU(),\n",
        "        nn.Linear(150, 50),\n",
        "        nn.ReLU(),\n",
        "        nn.Linear(50, 20),\n",
        "        nn.ReLU(),\n",
        "        nn.Linear(20, 10),\n",
        "        nn.ReLU(),\n",
        "        nn.Linear(10, 6),\n",
        "    )\n",
        "\n",
        "  def forward(self, x):\n",
        "    x = self.flatten(x)\n",
        "    logits = self.linear_relu_stack(x)\n",
        "    output = F.log_softmax(logits, dim=1)\n",
        "    return output\n"
      ],
      "metadata": {
        "id": "oy0LIG8S4AmG"
      },
      "execution_count": 10,
      "outputs": []
    },
    {
      "cell_type": "code",
      "source": [
        "new_model = Intel_Net()"
      ],
      "metadata": {
        "id": "Pq8CM8cR0hzp"
      },
      "execution_count": 11,
      "outputs": []
    },
    {
      "cell_type": "code",
      "source": [
        "count = 0\n",
        "correct =0\n",
        "for i in range(10):\n",
        "  X = images[i, :, :, :].view(1, 3, 28, 28).float()\n",
        "  pred_probab = new_model(X)\n",
        "  y_pred = pred_probab.argmax(1)\n",
        "  print(f\"Predicted class: {y_pred.item()}\")\n",
        "  print(f\"Actual class: {labels[i].item()}\")\n",
        "  if(y_pred.item() == labels[i].item()):\n",
        "    correct += 1\n",
        "  count += 1\n",
        "print(f\"Accuracy: {correct/count}\")\n",
        "\n"
      ],
      "metadata": {
        "colab": {
          "base_uri": "https://localhost:8080/"
        },
        "id": "lxuAX2w82VrG",
        "outputId": "c0a7f7e8-1b2c-429d-9120-8d4d54fb19c8"
      },
      "execution_count": 12,
      "outputs": [
        {
          "output_type": "stream",
          "name": "stdout",
          "text": [
            "Predicted class: 3\n",
            "Actual class: 4\n",
            "Predicted class: 3\n",
            "Actual class: 2\n",
            "Predicted class: 3\n",
            "Actual class: 5\n",
            "Predicted class: 3\n",
            "Actual class: 4\n",
            "Predicted class: 3\n",
            "Actual class: 5\n",
            "Predicted class: 3\n",
            "Actual class: 5\n",
            "Predicted class: 3\n",
            "Actual class: 0\n",
            "Predicted class: 3\n",
            "Actual class: 5\n",
            "Predicted class: 3\n",
            "Actual class: 2\n",
            "Predicted class: 3\n",
            "Actual class: 2\n",
            "Accuracy: 0.0\n"
          ]
        }
      ]
    },
    {
      "cell_type": "code",
      "source": [
        "# X = images[0,0,:,:]\n",
        "# print(X)\n",
        "# X = images[0, 0, :, :].view(1, 1, 28, 28).float()\n",
        "# print(X)\n",
        "pred_probab = new_model(X)\n",
        "y_pred = pred_probab.argmax(1)\n",
        "print(f\"Predicted class: {y_pred.item()}\")\n",
        "plt.imshow(images[0,1,:,:])\n",
        "print(f\"Actual class: {labels[0].item()}\")"
      ],
      "metadata": {
        "colab": {
          "base_uri": "https://localhost:8080/",
          "height": 466
        },
        "id": "TGsozs1B2O9D",
        "outputId": "b3370723-654a-4f2c-9a17-2251f41713e1"
      },
      "execution_count": 13,
      "outputs": [
        {
          "output_type": "stream",
          "name": "stdout",
          "text": [
            "Predicted class: 3\n",
            "Actual class: 4\n"
          ]
        },
        {
          "output_type": "display_data",
          "data": {
            "text/plain": [
              "<Figure size 640x480 with 1 Axes>"
            ],
            "image/png": "[encoded data removed]"
          },
          "metadata": {}
        }
      ]
    },
    {
      "cell_type": "code",
      "source": [
        "def train_loop(dataloader, model, loss_fn, optimizer):\n",
        "    size = len(dataloader.dataset)\n",
        "    model.train()\n",
        "    for batch, (X, y) in enumerate(dataloader):\n",
        "        # Compute prediction and loss\n",
        "        # print(X)\n",
        "        # print(batch)\n",
        "        # print(y)\n",
        "\n",
        "        pred = model(X)\n",
        "        loss = loss_fn(pred, y)\n",
        "\n",
        "        # Backpropagation\n",
        "        optimizer.zero_grad()\n",
        "        loss.backward()\n",
        "        optimizer.step()\n",
        "\n",
        "        if batch % 100 == 0:\n",
        "            loss, current = loss.item(), batch * len(X)\n",
        "            print(f\"loss: {loss:>7f}  [{current:>5d}/{size:>5d}]\")\n",
        "\n",
        "# Define the testing loop\n",
        "def test_loop(dataloader, model, loss_fn):\n",
        "    model.eval()\n",
        "    size = len(dataloader.dataset)\n",
        "    num_batches = len(dataloader)\n",
        "    test_loss, correct = 0, 0\n",
        "\n",
        "    with torch.no_grad():\n",
        "        for X, y in dataloader:\n",
        "            pred = model(X)\n",
        "            test_loss += loss_fn(pred, y).item()\n",
        "            correct += (pred.argmax(1) == y).type(torch.float).sum().item()\n",
        "\n",
        "    test_loss /= num_batches\n",
        "    correct /= size\n",
        "    print(f\"Test Error: \\n Accuracy: {(100*correct):>0.1f}%, Avg loss: {test_loss:>8f} \\n\")"
      ],
      "metadata": {
        "id": "HKALu7zY7ib4"
      },
      "execution_count": 14,
      "outputs": []
    },
    {
      "cell_type": "code",
      "source": [
        "learning_rate = 1e-3\n",
        "batch_size = 64\n",
        "epochs = 5\n",
        "optimizer = torch.optim.SGD(new_model.parameters(), lr=learning_rate)\n",
        "loss_fn = nn.CrossEntropyLoss()\n",
        "for epoch in range(epochs):\n",
        "    print(f\"Epoch {epoch+1}\\n-------------------------------\")\n",
        "    train_loop(train_dataloader, new_model, loss_fn, optimizer)\n",
        "    test_loop(test_dataloader, new_model, loss_fn)\n",
        "print(\"Done!\")"
      ],
      "metadata": {
        "colab": {
          "base_uri": "https://localhost:8080/"
        },
        "id": "jta1HmU-7oyF",
        "outputId": "7c50651b-1d94-4b26-e1f3-98a885d5c055"
      },
      "execution_count": 15,
      "outputs": [
        {
          "output_type": "stream",
          "name": "stdout",
          "text": [
            "Epoch 1\n",
            "-------------------------------\n",
            "loss: 1.808200  [    0/13323]\n",
            "loss: 1.833708  [ 6400/13323]\n",
            "loss: 1.812368  [12800/13323]\n",
            "Test Error: \n",
            " Accuracy: 17.6%, Avg loss: 1.801460 \n",
            "\n",
            "Epoch 2\n",
            "-------------------------------\n",
            "loss: 1.800444  [    0/13323]\n",
            "loss: 1.776843  [ 6400/13323]\n",
            "loss: 1.792141  [12800/13323]\n",
            "Test Error: \n",
            " Accuracy: 17.6%, Avg loss: 1.799152 \n",
            "\n",
            "Epoch 3\n",
            "-------------------------------\n",
            "loss: 1.833877  [    0/13323]\n",
            "loss: 1.808038  [ 6400/13323]\n",
            "loss: 1.821791  [12800/13323]\n",
            "Test Error: \n",
            " Accuracy: 17.6%, Avg loss: 1.797261 \n",
            "\n",
            "Epoch 4\n",
            "-------------------------------\n",
            "loss: 1.787160  [    0/13323]\n",
            "loss: 1.795211  [ 6400/13323]\n",
            "loss: 1.815879  [12800/13323]\n",
            "Test Error: \n",
            " Accuracy: 17.6%, Avg loss: 1.795728 \n",
            "\n",
            "Epoch 5\n",
            "-------------------------------\n",
            "loss: 1.806795  [    0/13323]\n",
            "loss: 1.798334  [ 6400/13323]\n",
            "loss: 1.772049  [12800/13323]\n",
            "Test Error: \n",
            " Accuracy: 17.6%, Avg loss: 1.794503 \n",
            "\n",
            "Done!\n"
          ]
        }
      ]
    },
    {
      "cell_type": "code",
      "source": [
        "test_loop(train_dataloader, new_model, loss_fn)"
      ],
      "metadata": {
        "colab": {
          "base_uri": "https://localhost:8080/"
        },
        "id": "RNDfXIx87Pni",
        "outputId": "34313cc5-ba96-41e5-9c57-44a48433e58b"
      },
      "execution_count": 16,
      "outputs": [
        {
          "output_type": "stream",
          "name": "stdout",
          "text": [
            "Test Error: \n",
            " Accuracy: 15.2%, Avg loss: 1.799247 \n",
            "\n"
          ]
        }
      ]
    },
    {
      "cell_type": "code",
      "source": [
        "torch.save(new_model.state_dict(), '/content/drive/MyDrive/INTEL_data_practice/without_convolution/model_weights.pth')"
      ],
      "metadata": {
        "id": "JCmnEC93lanC"
      },
      "execution_count": 17,
      "outputs": []
    },
    {
      "cell_type": "code",
      "source": [],
      "metadata": {
        "id": "TxvpBn8L_UtT"
      },
      "execution_count": null,
      "outputs": []
    }
  ]
}