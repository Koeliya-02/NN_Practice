{
  "cells": [
    {
      "cell_type": "markdown",
      "metadata": {
        "id": "view-in-github",
        "colab_type": "text"
      },
      "source": [
        "<a href=\"https://colab.research.google.com/github/Koeliya-02/NN_Practice/blob/main/INTEL_data_practice/with_convolution/INTEL_classifier_with_convolution.ipynb\" target=\"_parent\"><img src=\"https://colab.research.google.com/assets/colab-badge.svg\" alt=\"Open In Colab\"/></a>"
      ]
    },
    {
      "cell_type": "code",
      "execution_count": 2,
      "metadata": {
        "colab": {
          "base_uri": "https://localhost:8080/"
        },
        "id": "WNT3e0et5S5L",
        "outputId": "79daf08f-934b-44bb-e81a-357ab956b532"
      },
      "outputs": [
        {
          "output_type": "stream",
          "name": "stdout",
          "text": [
            "Mounted at /content/drive\n"
          ]
        }
      ],
      "source": [
        "from google.colab import drive\n",
        "drive.mount('/content/drive')"
      ]
    },
    {
      "cell_type": "code",
      "execution_count": 3,
      "metadata": {
        "colab": {
          "base_uri": "https://localhost:8080/"
        },
        "id": "yGzVUXfASTwr",
        "outputId": "20f0a3a3-a87b-4b49-9a16-fd83dce63ac1"
      },
      "outputs": [
        {
          "output_type": "stream",
          "name": "stdout",
          "text": [
            "Number of training samples: 13323\n",
            "Number of testing samples: 2990\n",
            "Class-to-index mapping: {'buildings': 0, 'forest': 1, 'glacier': 2, 'mountain': 3, 'sea': 4, 'street': 5}\n",
            "Batch of images has shape: torch.Size([64, 3, 28, 28])\n",
            "Batch of labels: tensor([0, 5, 3, 5, 1, 3, 5, 1, 4, 5, 4, 1, 5, 5, 3, 1, 5, 4, 3, 1, 4, 0, 5, 2,\n",
            "        3, 2, 3, 5, 4, 2, 5, 3, 1, 1, 4, 3, 1, 4, 4, 3, 5, 5, 3, 5, 4, 3, 1, 4,\n",
            "        5, 3, 5, 5, 4, 1, 2, 3, 3, 1, 0, 4, 1, 0, 5, 1])\n"
          ]
        }
      ],
      "source": [
        "import os\n",
        "import torch\n",
        "from torchvision import datasets, transforms\n",
        "from torch.utils.data import DataLoader\n",
        "\n",
        "# Define the root directories for training and testing data\n",
        "train_dir = '/content/drive/MyDrive/INTEL_data_practice/DATA/seg_train/seg_train'\n",
        "test_dir = '/content/drive/MyDrive/INTEL_data_practice/DATA/seg_test/seg_test'\n",
        "\n",
        "# Define transformations (resize, convert to tensor, normalize)\n",
        "transform = transforms.Compose([\n",
        "    transforms.Resize((28, 28)),  # Resize images to 28x28\n",
        "    transforms.ToTensor(),        # Convert images to PyTorch tensors\n",
        "    transforms.Normalize((0.5,), (0.5,))  # Normalize images (mean, std)\n",
        "])\n",
        "\n",
        "# Create datasets using ImageFolder\n",
        "train_dataset = datasets.ImageFolder(root=train_dir, transform=transform)\n",
        "test_dataset = datasets.ImageFolder(root=test_dir, transform=transform)\n",
        "\n",
        "# Create DataLoaders\n",
        "batch_size = 64\n",
        "train_dataloader = DataLoader(train_dataset, batch_size=batch_size, shuffle=True)\n",
        "test_dataloader = DataLoader(test_dataset, batch_size=batch_size, shuffle=False)\n",
        "\n",
        "# Check if datasets are loaded correctly\n",
        "print(f\"Number of training samples: {len(train_dataset)}\")\n",
        "print(f\"Number of testing samples: {len(test_dataset)}\")\n",
        "print(f\"Class-to-index mapping: {train_dataset.class_to_idx}\")\n",
        "\n",
        "# Example of how to get a batch of data\n",
        "data_iter = iter(train_dataloader)\n",
        "images, labels = next(data_iter)\n",
        "\n",
        "\n",
        "print(f\"Batch of images has shape: {images.shape}\")\n",
        "print(f\"Batch of labels: {labels}\")\n"
      ]
    },
    {
      "cell_type": "code",
      "execution_count": 4,
      "metadata": {
        "colab": {
          "base_uri": "https://localhost:8080/"
        },
        "id": "n0v7ZlxRnZzc",
        "outputId": "3369aad7-5834-415a-f5e9-0dffbefa578f"
      },
      "outputs": [
        {
          "output_type": "stream",
          "name": "stdout",
          "text": [
            "Batch of images has shape: torch.Size([64, 3, 28, 28])\n",
            "Batch of labels has shape: torch.Size([64])\n"
          ]
        }
      ],
      "source": [
        "print(f\"Batch of images has shape: {images.shape}\")\n",
        "print(f\"Batch of labels has shape: {labels.shape}\")\n",
        "idx_to_class = {v: k for k, v in train_dataset.class_to_idx.items()}\n"
      ]
    },
    {
      "cell_type": "code",
      "execution_count": 5,
      "metadata": {
        "colab": {
          "base_uri": "https://localhost:8080/",
          "height": 398
        },
        "id": "242hdka-p_Mx",
        "outputId": "16a90c03-2eae-4015-ad26-f434e7b423b4"
      },
      "outputs": [
        {
          "output_type": "display_data",
          "data": {
            "text/plain": [
              "<Figure size 640x480 with 5 Axes>"
            ],
            "image/png": "[encoded data removed]"
          },
          "metadata": {}
        },
        {
          "output_type": "display_data",
          "data": {
            "text/plain": [
              "<Figure size 640x480 with 5 Axes>"
            ],
            "image/png": "[encoded data removed]"
          },
          "metadata": {}
        },
        {
          "output_type": "display_data",
          "data": {
            "text/plain": [
              "<Figure size 640x480 with 5 Axes>"
            ],
            "image/png": "[encoded data removed]"
          },
          "metadata": {}
        }
      ],
      "source": [
        "\n",
        "import matplotlib.pyplot as plt\n",
        "import numpy as np\n",
        "\n",
        "for i in range(5):\n",
        "    plt.subplot(1, 5, i+1)\n",
        "    plt.imshow(images[i,0,:,:])\n",
        "    plt.title(idx_to_class[labels[i].item()])\n",
        "    plt.axis('off')\n",
        "plt.show()\n",
        "\n",
        "for i in range(5):\n",
        "    plt.subplot(1, 5, i+1)\n",
        "    plt.imshow(images[i,1,:,:])\n",
        "    plt.title(idx_to_class[labels[i].item()])\n",
        "    plt.axis('off')\n",
        "plt.show()\n",
        "\n",
        "for i in range(5):\n",
        "    plt.subplot(1, 5, i+1)\n",
        "    plt.imshow(images[i,2,:,:])\n",
        "    plt.title(idx_to_class[labels[i].item()])\n",
        "    plt.axis('off')\n",
        "plt.show()\n"
      ]
    },
    {
      "cell_type": "code",
      "execution_count": 6,
      "metadata": {
        "colab": {
          "base_uri": "https://localhost:8080/",
          "height": 235
        },
        "id": "0jIalL6WvOoo",
        "outputId": "d42c93a6-ea63-4408-a919-ad8b97bea7ff"
      },
      "outputs": [
        {
          "output_type": "stream",
          "name": "stderr",
          "text": [
            "WARNING:matplotlib.image:Clipping input data to the valid range for imshow with RGB data ([0..1] for floats or [0..255] for integers).\n",
            "WARNING:matplotlib.image:Clipping input data to the valid range for imshow with RGB data ([0..1] for floats or [0..255] for integers).\n",
            "WARNING:matplotlib.image:Clipping input data to the valid range for imshow with RGB data ([0..1] for floats or [0..255] for integers).\n",
            "WARNING:matplotlib.image:Clipping input data to the valid range for imshow with RGB data ([0..1] for floats or [0..255] for integers).\n",
            "WARNING:matplotlib.image:Clipping input data to the valid range for imshow with RGB data ([0..1] for floats or [0..255] for integers).\n"
          ]
        },
        {
          "output_type": "display_data",
          "data": {
            "text/plain": [
              "<Figure size 640x480 with 5 Axes>"
            ],
            "image/png": "[encoded data removed]"
          },
          "metadata": {}
        }
      ],
      "source": [
        "import matplotlib.pyplot as plt\n",
        "import numpy as np\n",
        "\n",
        "# Display the first 5 images with their labels using full RGB channels\n",
        "for i in range(5):\n",
        "    plt.subplot(1, 5, i+1)\n",
        "    # Combine channels into RGB format\n",
        "    img_rgb = images[i].permute(1, 2, 0).numpy()  # Convert to (height, width, channels)\n",
        "    plt.imshow(img_rgb)\n",
        "    plt.title(idx_to_class[labels[i].item()])\n",
        "    plt.axis('off')\n",
        "plt.show()\n"
      ]
    },
    {
      "cell_type": "code",
      "execution_count": 7,
      "metadata": {
        "id": "Xx_OJ84n_5KH"
      },
      "outputs": [],
      "source": [
        "import torch\n",
        "import torch.nn as nn\n",
        "import torch.nn.functional as F"
      ]
    },
    {
      "cell_type": "code",
      "execution_count": 8,
      "metadata": {
        "id": "oy0LIG8S4AmG"
      },
      "outputs": [],
      "source": [
        "class Intel_Net(nn.Module):\n",
        "    def __init__(self):\n",
        "        super(Intel_Net, self).__init__()\n",
        "\n",
        "        # Convolutional Layer 1: Input (3 channels, 28X28 pixels)\n",
        "        self.conv1 = nn.Sequential(\n",
        "            nn.Conv2d(in_channels=3,  # Input channels (e.g., RGB color)\n",
        "                      out_channels=32,  # Number of filters in this layer\n",
        "                      kernel_size=3,    # Size of each filter (3x3)\n",
        "                      stride=1,         # Stride (movement) of the filter\n",
        "                      padding=1),       # Padding to maintain the input size\n",
        "            nn.ReLU())  # Activation function (Rectified Linear Unit)\n",
        "\n",
        "        # Convolutional Layer 2: Input (32 channels, 28X28 pixels)\n",
        "        self.conv2 = nn.Sequential(\n",
        "            nn.Conv2d(in_channels=32,  # Input channels from previous layer(out_channels)\n",
        "                      out_channels=64,\n",
        "                      kernel_size=3,\n",
        "                      stride=1,\n",
        "                      padding=1),\n",
        "            nn.ReLU())  # Activation function\n",
        "\n",
        "        # Fully Connected Layer 1: Input (64 channels, 28X28 pixels)\n",
        "        self.fc1 = nn.Linear(64 * 28 * 28 , 64)  # Input size is flattened\n",
        "        self.relu3 = nn.ReLU()\n",
        "\n",
        "        # Fully Connected Layer 2: Input (64 units)\n",
        "        self.fc2 = nn.Linear(64, 6)  # Output layer (4 classes)\n",
        "\n",
        "    def forward(self, x):\n",
        "        # Pass through first convolutional layer\n",
        "        x = self.conv1(x)\n",
        "        # Pass through second convolutional layer\n",
        "        x = self.conv2(x)\n",
        "        # Flatten the output from the convolutional layers\n",
        "        x = x.view(x.size(0), -1)  # Flatten the tensor\n",
        "        # Pass through first fully connected layer\n",
        "        x = self.fc1(x)\n",
        "        x = self.relu3(x)\n",
        "        # Pass through second fully connected layer (output layer)\n",
        "        x = self.fc2(x)\n",
        "        output = F.softmax(x, dim=1)\n",
        "        return output\n"
      ]
    },
    {
      "cell_type": "code",
      "execution_count": 9,
      "metadata": {
        "id": "Pq8CM8cR0hzp"
      },
      "outputs": [],
      "source": [
        "new_model = Intel_Net()"
      ]
    },
    {
      "cell_type": "code",
      "execution_count": 10,
      "metadata": {
        "colab": {
          "base_uri": "https://localhost:8080/"
        },
        "id": "_ZKcu644VulG",
        "outputId": "82b3ad50-d061-4fa3-8e7d-25e25ad10412"
      },
      "outputs": [
        {
          "output_type": "stream",
          "name": "stdout",
          "text": [
            "Predicted class: 2\n",
            "Actual class: 0\n",
            "Predicted class: 2\n",
            "Actual class: 5\n",
            "Predicted class: 2\n",
            "Actual class: 3\n",
            "Predicted class: 2\n",
            "Actual class: 5\n",
            "Predicted class: 2\n",
            "Actual class: 1\n",
            "Predicted class: 2\n",
            "Actual class: 3\n",
            "Predicted class: 2\n",
            "Actual class: 5\n",
            "Predicted class: 2\n",
            "Actual class: 1\n",
            "Predicted class: 2\n",
            "Actual class: 4\n",
            "Predicted class: 2\n",
            "Actual class: 5\n",
            "Accuracy: 0.0\n"
          ]
        }
      ],
      "source": [
        "count = 0\n",
        "correct = 0\n",
        "\n",
        "# Loop through all images in the dataset (adjust if the dataset is too large)\n",
        "for i in range(min(10, len(images))):  # Here, only process first 10 images for testing\n",
        "    X = images[i, :, :, :].view(1, 3, 28, 28).float()\n",
        "    pred_probab = new_model(X)\n",
        "    y_pred = pred_probab.argmax(1)\n",
        "\n",
        "    print(f\"Predicted class: {y_pred.item()}\")\n",
        "    print(f\"Actual class: {labels[i].item()}\")\n",
        "\n",
        "    if y_pred.item() == labels[i].item():\n",
        "        correct += 1\n",
        "\n",
        "    count += 1\n",
        "\n",
        "# Calculate and print the accuracy after the loop\n",
        "accuracy = correct / count\n",
        "print(f\"Accuracy: {accuracy}\")\n"
      ]
    },
    {
      "cell_type": "code",
      "execution_count": 11,
      "metadata": {
        "colab": {
          "base_uri": "https://localhost:8080/"
        },
        "id": "lxuAX2w82VrG",
        "outputId": "9017391f-125f-4ea3-c5b1-14e07f8b99d6"
      },
      "outputs": [
        {
          "output_type": "stream",
          "name": "stdout",
          "text": [
            "Predicted class: 2\n",
            "Actual class: 0\n",
            "Predicted class: 2\n",
            "Actual class: 5\n",
            "Predicted class: 2\n",
            "Actual class: 3\n",
            "Predicted class: 2\n",
            "Actual class: 5\n",
            "Predicted class: 2\n",
            "Actual class: 1\n",
            "Predicted class: 2\n",
            "Actual class: 3\n",
            "Predicted class: 2\n",
            "Actual class: 5\n",
            "Predicted class: 2\n",
            "Actual class: 1\n",
            "Predicted class: 2\n",
            "Actual class: 4\n",
            "Predicted class: 2\n",
            "Actual class: 5\n",
            "Accuracy: 0.0\n"
          ]
        }
      ],
      "source": [
        "count = 0\n",
        "correct =0\n",
        "for i in range(10):\n",
        "  X = images[i, :, :, :].view(1, 3, 28, 28).float()\n",
        "  pred_probab = new_model(X)\n",
        "  y_pred = pred_probab.argmax(1)\n",
        "  print(f\"Predicted class: {y_pred.item()}\")\n",
        "  print(f\"Actual class: {labels[i].item()}\")\n",
        "  if(y_pred.item() == labels[i].item()):\n",
        "    correct += 1\n",
        "  count += 1\n",
        "print(f\"Accuracy: {correct/count}\")\n",
        "\n"
      ]
    },
    {
      "cell_type": "code",
      "execution_count": 12,
      "metadata": {
        "colab": {
          "base_uri": "https://localhost:8080/",
          "height": 466
        },
        "id": "TGsozs1B2O9D",
        "outputId": "07f1bf98-37ef-4068-d332-d08a2cbaeaea"
      },
      "outputs": [
        {
          "output_type": "stream",
          "name": "stdout",
          "text": [
            "Predicted class: 2\n",
            "Actual class: 0\n"
          ]
        },
        {
          "output_type": "display_data",
          "data": {
            "text/plain": [
              "<Figure size 640x480 with 1 Axes>"
            ],
            "image/png": "[encoded data removed]"
          },
          "metadata": {}
        }
      ],
      "source": [
        "# X = images[0,0,:,:]\n",
        "# print(X)\n",
        "# X = images[0, 0, :, :].view(1, 1, 28, 28).float()\n",
        "# print(X)\n",
        "pred_probab = new_model(X)\n",
        "y_pred = pred_probab.argmax(1)\n",
        "print(f\"Predicted class: {y_pred.item()}\")\n",
        "plt.imshow(images[0,1,:,:])\n",
        "print(f\"Actual class: {labels[0].item()}\")"
      ]
    },
    {
      "cell_type": "code",
      "source": [
        "device = torch.device('cuda' if torch.cuda.is_available() else 'cpu')\n",
        "new_model.to(device)\n"
      ],
      "metadata": {
        "colab": {
          "base_uri": "https://localhost:8080/"
        },
        "id": "l070Ia6JiViV",
        "outputId": "0cd7fd15-da1b-4bf4-e106-1e4b51f821c1"
      },
      "execution_count": 17,
      "outputs": [
        {
          "output_type": "execute_result",
          "data": {
            "text/plain": [
              "Intel_Net(\n",
              "  (conv1): Sequential(\n",
              "    (0): Conv2d(3, 32, kernel_size=(3, 3), stride=(1, 1), padding=(1, 1))\n",
              "    (1): ReLU()\n",
              "  )\n",
              "  (conv2): Sequential(\n",
              "    (0): Conv2d(32, 64, kernel_size=(3, 3), stride=(1, 1), padding=(1, 1))\n",
              "    (1): ReLU()\n",
              "  )\n",
              "  (fc1): Linear(in_features=50176, out_features=64, bias=True)\n",
              "  (relu3): ReLU()\n",
              "  (fc2): Linear(in_features=64, out_features=6, bias=True)\n",
              ")"
            ]
          },
          "metadata": {},
          "execution_count": 17
        }
      ]
    },
    {
      "cell_type": "code",
      "execution_count": 20,
      "metadata": {
        "id": "HKALu7zY7ib4"
      },
      "outputs": [],
      "source": [
        "def train_loop(dataloader, model, loss_fn, optimizer):\n",
        "    size = len(dataloader.dataset)\n",
        "    model.train()\n",
        "    for batch, (X, y) in enumerate(dataloader):\n",
        "        # Compute prediction and loss\n",
        "        # print(X)\n",
        "        # print(batch)\n",
        "        # print(y)\n",
        "        X, y = X.to(device), y.to(device)\n",
        "        pred = model(X)\n",
        "        loss = loss_fn(pred, y)\n",
        "\n",
        "        # Backpropagation\n",
        "        optimizer.zero_grad()\n",
        "        loss.backward()\n",
        "        optimizer.step()\n",
        "\n",
        "        if batch % 100 == 0:\n",
        "            loss, current = loss.item(), batch * len(X)\n",
        "            print(f\"loss: {loss:>7f}  [{current:>5d}/{size:>5d}]\")\n",
        "\n",
        "# Define the testing loop\n",
        "def test_loop(dataloader, model, loss_fn):\n",
        "\n",
        "    model.eval()\n",
        "    size = len(dataloader.dataset)\n",
        "    num_batches = len(dataloader)\n",
        "    test_loss, correct = 0, 0\n",
        "\n",
        "    with torch.no_grad():\n",
        "        for X, y in dataloader:\n",
        "            X, y = X.to(device), y.to(device)\n",
        "            pred = model(X)\n",
        "            test_loss += loss_fn(pred, y).item()\n",
        "            correct += (pred.argmax(1) == y).type(torch.float).sum().item()\n",
        "\n",
        "    test_loss /= num_batches\n",
        "    correct /= size\n",
        "    print(f\"Test Error: \\n Accuracy: {(100*correct):>0.1f}%, Avg loss: {test_loss:>8f} \\n\")"
      ]
    },
    {
      "cell_type": "code",
      "source": [
        "import torch.optim as optim\n",
        "import torch.nn as nn\n",
        "\n",
        "batch_size = 64\n",
        "epochs = 5\n",
        "\n",
        "# Initialize the optimizer with Adadelta\n",
        "optimizer = optim.Adadelta(new_model.parameters())  # No need to set learning rate\n",
        "\n",
        "# Initialize the loss function\n",
        "loss_fn = nn.CrossEntropyLoss()\n",
        "\n",
        "# Training loop\n",
        "for epoch in range(epochs):\n",
        "    print(f\"Epoch {epoch+1}\\n-------------------------------\")\n",
        "    train_loop(train_dataloader, new_model, loss_fn, optimizer)\n",
        "    test_loop(test_dataloader, new_model, loss_fn)\n",
        "print(\"Done!\")\n"
      ],
      "metadata": {
        "colab": {
          "base_uri": "https://localhost:8080/"
        },
        "id": "a_MsaOs7Ipuw",
        "outputId": "5e20ed86-9cf1-4ee3-a008-b2d7e5e28133"
      },
      "execution_count": 21,
      "outputs": [
        {
          "output_type": "stream",
          "name": "stdout",
          "text": [
            "Epoch 1\n",
            "-------------------------------\n",
            "loss: 1.536153  [    0/13323]\n",
            "loss: 1.370179  [ 6400/13323]\n",
            "loss: 1.516850  [12800/13323]\n",
            "Test Error: \n",
            " Accuracy: 59.7%, Avg loss: 1.440824 \n",
            "\n",
            "Epoch 2\n",
            "-------------------------------\n",
            "loss: 1.355436  [    0/13323]\n",
            "loss: 1.317354  [ 6400/13323]\n",
            "loss: 1.396347  [12800/13323]\n",
            "Test Error: \n",
            " Accuracy: 61.0%, Avg loss: 1.429458 \n",
            "\n",
            "Epoch 3\n",
            "-------------------------------\n",
            "loss: 1.450319  [    0/13323]\n",
            "loss: 1.289616  [ 6400/13323]\n",
            "loss: 1.433815  [12800/13323]\n",
            "Test Error: \n",
            " Accuracy: 61.9%, Avg loss: 1.420046 \n",
            "\n",
            "Epoch 4\n",
            "-------------------------------\n",
            "loss: 1.366796  [    0/13323]\n",
            "loss: 1.286962  [ 6400/13323]\n",
            "loss: 1.309932  [12800/13323]\n",
            "Test Error: \n",
            " Accuracy: 57.9%, Avg loss: 1.456997 \n",
            "\n",
            "Epoch 5\n",
            "-------------------------------\n",
            "loss: 1.353928  [    0/13323]\n",
            "loss: 1.212572  [ 6400/13323]\n",
            "loss: 1.319702  [12800/13323]\n",
            "Test Error: \n",
            " Accuracy: 64.7%, Avg loss: 1.390603 \n",
            "\n",
            "Done!\n"
          ]
        }
      ]
    },
    {
      "cell_type": "code",
      "execution_count": 22,
      "metadata": {
        "colab": {
          "base_uri": "https://localhost:8080/"
        },
        "id": "RNDfXIx87Pni",
        "outputId": "376c6276-9249-44d4-868c-928646cfb0bf"
      },
      "outputs": [
        {
          "output_type": "stream",
          "name": "stdout",
          "text": [
            "Test Error: \n",
            " Accuracy: 71.6%, Avg loss: 1.323341 \n",
            "\n"
          ]
        }
      ],
      "source": [
        "test_loop(train_dataloader, new_model, loss_fn)"
      ]
    },
    {
      "cell_type": "code",
      "execution_count": 23,
      "metadata": {
        "id": "JCmnEC93lanC"
      },
      "outputs": [],
      "source": [
        "torch.save(new_model.state_dict(), '/content/drive/MyDrive/INTEL_data_practice/with_convolution/optimiser_adadelta/model_weights.pth')"
      ]
    },
    {
      "cell_type": "code",
      "execution_count": null,
      "metadata": {
        "id": "TxvpBn8L_UtT"
      },
      "outputs": [],
      "source": []
    }
  ],
  "metadata": {
    "colab": {
      "provenance": [],
      "gpuType": "T4",
      "mount_file_id": "1ooXxdc3MeJkFdFQ7BCMrRC-uxdsCvLbL",
      "authorship_tag": "ABX9TyMLvbXch69d5aHzUT6heqrg",
      "include_colab_link": true
    },
    "kernelspec": {
      "display_name": "Python 3",
      "name": "python3"
    },
    "language_info": {
      "name": "python"
    },
    "accelerator": "GPU"
  },
  "nbformat": 4,
  "nbformat_minor": 0
}